{
 "cells": [
  {
   "cell_type": "code",
   "execution_count": 1,
   "id": "07d43c25-40bd-4786-8184-f3e0192b9003",
   "metadata": {},
   "outputs": [],
   "source": [
    "#!pip install plotly\n",
    "#!pip install altair\n",
    "#!pip install pandas\n",
    "#!pip install matplotlib"
   ]
  },
  {
   "cell_type": "markdown",
   "id": "bf77dd1c-ac41-49d7-9c3b-34c597481231",
   "metadata": {},
   "source": [
    "### Inicializacion"
   ]
  },
  {
   "cell_type": "code",
   "execution_count": 2,
   "id": "a592ead1-d31d-4c3b-9580-40aa163d433e",
   "metadata": {},
   "outputs": [],
   "source": [
    "import pandas as pd\n",
    "import matplotlib.pyplot as plt\n",
    "import numpy as np"
   ]
  },
  {
   "cell_type": "code",
   "execution_count": 15,
   "id": "db70ff74-58d1-4bfa-8b31-1fb10d1b95ea",
   "metadata": {},
   "outputs": [],
   "source": [
    "def levantarStream(df, orden_meses, comuna):\n",
    "    # Crear el gráfico de tipo stream con Plotly Express\n",
    "    fig = px.area(df, x='mes', y='tasa', color='delito',\n",
    "                  title=f'Streamgraph de Tasas de Delitos en {comuna}',\n",
    "                  labels={'tasa': 'Tasa de Delito cada/100.000 hab.', 'delito': 'Tipo de Delito'},\n",
    "                  category_orders={\"mes\": orden_meses})\n",
    "    \n",
    "    \n",
    "    # Agregar líneas verticales y una etiqueta para Verano\n",
    "    fig.add_shape(dict(type='line', x0='Marzo', x1='Marzo', y0=0, y1=1, xref='x', yref='paper',\n",
    "                       line=dict(color='black', width=2, dash='dash')))\n",
    "    fig.add_annotation(text='Verano', x='Febrero', y=-2.5, showarrow=False, font=dict(color='black'))\n",
    "    \n",
    "    \n",
    "    #Linea y etiqueta otoño\n",
    "    fig.add_shape(dict(type='line', x0='Junio', x1='Junio', y0=0, y1=1, xref='x', yref='paper',\n",
    "                       line=dict(color='black', width=2, dash='dash')))\n",
    "    fig.add_annotation(text='Otoño', x=3.5, y=-2.5, showarrow=False, font=dict(color='black'))\n",
    "    \n",
    "    #Linea y etiqueta Invierno\n",
    "    fig.add_shape(dict(type='line', x0='Septiembre', x1='Septiembre', y0=0, y1=1, xref='x', yref='paper',\n",
    "                       line=dict(color='black', width=2, dash='dash')))\n",
    "    fig.add_annotation(text='Invierno', x=6.5, y=-2.5, showarrow=False, font=dict(color='black'))\n",
    "    \n",
    "    #Linea y etiqueta Primavera\n",
    "    fig.add_shape(dict(type='line', x0='Diciembre', x1='Diciembre', y0=0, y1=1, xref='x', yref='paper',\n",
    "                       line=dict(color='black', width=2, dash='dash')))\n",
    "    fig.add_annotation(text='Primavera', x=9.5, y=-2.5, showarrow=False, font=dict(color='black'))\n",
    "    \n",
    "    \n",
    "    # Mostrar el gráfico\n",
    "    fig.show()"
   ]
  },
  {
   "cell_type": "code",
   "execution_count": 33,
   "id": "a177c596-f0e4-4bf9-a98b-9de627b60077",
   "metadata": {},
   "outputs": [],
   "source": [
    "def levantarStream2(df, orden_meses, comuna, colores_delitos):\n",
    "    # Crear el gráfico de tipo stream con Plotly Express\n",
    "    fig = px.area(df, x='mes', y='tasa', color='delito',\n",
    "                  title=f'Streamgraph de Tasas de Delitos en {comuna}',\n",
    "                  labels={'tasa': 'Tasa de Delito cada/100.000 hab.', 'delito': 'Tipo de Delito'},\n",
    "                  category_orders={\"mes\": orden_meses},\n",
    "                  color_discrete_map=colores_delitos)  # Asignar colores personalizados\n",
    "\n",
    "    # Agregar líneas verticales y etiquetas para las estaciones del año\n",
    "    for mes, estacion in [(\"Marzo\", \"Verano\"), (\"Junio\", \"Otoño\"), (\"Septiembre\", \"Invierno\"), (\"Diciembre\", \"Primavera\")]:\n",
    "        fig.add_shape(dict(type='line', x0=mes, x1=mes, y0=0, y1=1, xref='x', yref='paper',\n",
    "                           line=dict(color='black', width=2, dash='dash')))\n",
    "        fig.add_annotation(text=estacion, x=orden_meses.index(mes) - 0.5, y=-2.5, showarrow=False, font=dict(color='black'))\n",
    "\n",
    "    # Mostrar el gráfico\n",
    "    fig.show()"
   ]
  },
  {
   "cell_type": "code",
   "execution_count": 30,
   "id": "c9f99eb2-8993-4120-995d-c346df48a362",
   "metadata": {},
   "outputs": [],
   "source": [
    "def deployComparacion(delito, df1, df2, maximo):\n",
    "    #print(maximos)\n",
    "    \n",
    "    # Filtrar por delito especifico\n",
    "    df_del1 = df1[df1[\"delito\"]== delito]\n",
    "    df_del2 = df2[df2[\"delito\"]== delito]\n",
    "\n",
    "    nombre1 = df_del1[\"nombre\"].unique()\n",
    "    nombre2 = df_del2[\"nombre\"].unique()\n",
    "\n",
    "    meses = df_del1[\"mes\"].unique()\n",
    "    \n",
    "    # Extraer las tres primeras letras de cada mes\n",
    "    meses_abreviados = [mes[:3] for mes in meses]\n",
    "\n",
    "    # Ajustar las posiciones de las barras\n",
    "    ancho_barra = 0.35\n",
    "\n",
    "    pos_del1 = np.arange(len(meses))\n",
    "    pos_del2 = pos_del1 + ancho_barra\n",
    "    \n",
    "    # Configurar el gráfico de barras agrupadas por mes\n",
    "    plt.bar(pos_del1, df_del1[\"tasa\"], width=ancho_barra, label=f\"{nombre1[0]}\", color='gray', edgecolor='black')\n",
    "    plt.bar(pos_del2, df_del2[\"tasa\"], width=ancho_barra, label=f\"{nombre2[0]}\", alpha=0.7, color='lightgray', edgecolor='black')\n",
    "\n",
    "    # Añadir etiquetas y título\n",
    "    plt.xlabel(\"Mes\")\n",
    "    plt.ylabel(\"Tasa de Delito\")\n",
    "    plt.title(f\"Comparación Mensual de la Tasa de {delito} entre {nombre1[0]} y {nombre2[0]}\")\n",
    "    plt.xticks(pos_del1 + ancho_barra / 2, meses_abreviados)  # Etiquetas en el centro de las agrupaciones\n",
    "\n",
    "    # Añadir líneas verticales para identificar las estaciones con etiquetas\n",
    "    plt.axvline(x=2.7, color='black', linestyle='--', alpha=0.9)  # Entre Febrero y Marzo\n",
    "    plt.axvline(x=5.7, color='black', linestyle='--', alpha=0.9)  # Entre Mayo y Junio\n",
    "    plt.axvline(x=8.7, color='black', linestyle='--', alpha=0.9)  # Entre Agosto y Septiembre\n",
    "    plt.axvline(x=11.7, color='black', linestyle='--', alpha=0.9)  # Entre Noviembre y Diciembre\n",
    "    \n",
    "    # Etiquetas de estaciones\n",
    "    plt.text(2, maximo + 2 , 'Verano', color='black', ha='right')\n",
    "    plt.text(4.3, maximo + 2 , 'Otoño', color='black', ha='center')\n",
    "    plt.text(7.3, maximo + 2 , 'Invierno', color='black', ha='center')\n",
    "    plt.text(10.3, maximo + 2 , 'Primavera', color='black', ha='center')\n",
    "    \n",
    "    # Establecer el límite y de los ejes y para controlar el valor máximo\n",
    "    plt.ylim(0, maximo+10)\n",
    "    \n",
    "    # Mostrar el gráfico con leyenda fuera del plot\n",
    "    plt.legend(bbox_to_anchor=(1.05, 1), loc='upper left')\n",
    "    \n",
    "    # Ajustar el diseño para evitar que la leyenda se recorte\n",
    "    plt.tight_layout()\n",
    "    plt.show()"
   ]
  },
  {
   "cell_type": "code",
   "execution_count": 34,
   "id": "e9950cb4-f5d4-4913-a8d7-8093c6ce57c1",
   "metadata": {},
   "outputs": [],
   "source": [
    "# Cargar datos desde el archivo Excel\n",
    "archivo_excel_coyhaique = \"./CoyhaiqueV2.xlsx\"  \n",
    "archivo_excel_valdivia = \"./ValdiviaV2.xlsx\"    \n",
    "\n",
    "# Leer datos de los archivos Excel\n",
    "df1 = pd.read_excel(archivo_excel_coyhaique)\n",
    "df2 = pd.read_excel(archivo_excel_valdivia)\n",
    "\n",
    "delitos_todos = df1[\"delito\"].unique()\n",
    "\n",
    "colores_delitos = {\n",
    "    'Robo con Violencia o Intimidación': '#1f77b4',\n",
    "    'Robo por Sorpresa': '#ff7f0e',\n",
    "    'Robo Lugar Habitado': '#2ca02c',\n",
    "    'Robo Lugar No Habitado': '#d62728',\n",
    "    'Robo de Vehículo': '#9467bd',\n",
    "    'Robo Accesorio Vehículo': '#8c564b',\n",
    "    'Otros Robos con Fuerza': '#e377c2',\n",
    "    'Hurtos': '#7f7f7f',\n",
    "    'Lesiones': '#bcbd22',\n",
    "    'Homicidios': '#17becf',\n",
    "    'Violación': '#ff9896'\n",
    "}\n"
   ]
  },
  {
   "cell_type": "code",
   "execution_count": 35,
   "id": "def3959e-f550-4d3d-95f7-491b9b82bee3",
   "metadata": {},
   "outputs": [
    {
     "data": {
      "application/vnd.plotly.v1+json": {
       "config": {
        "plotlyServerURL": "https://plot.ly"
       },
       "data": [
        {
         "fillpattern": {
          "shape": ""
         },
         "hovertemplate": "Tipo de Delito=Robo con Violencia o Intimidación<br>mes=%{x}<br>Tasa de Delito cada/100.000 hab.=%{y}<extra></extra>",
         "legendgroup": "Robo con Violencia o Intimidación",
         "line": {
          "color": "#1f77b4"
         },
         "marker": {
          "symbol": "circle"
         },
         "mode": "lines",
         "name": "Robo con Violencia o Intimidación",
         "orientation": "v",
         "showlegend": true,
         "stackgroup": "1",
         "type": "scatter",
         "x": [
          "Abril",
          "Agosto",
          "Diciembre",
          "Enero",
          "Febrero",
          "Julio",
          "Junio",
          "Marzo",
          "Mayo",
          "Noviembre",
          "Octubre",
          "Septiembre"
         ],
         "xaxis": "x",
         "y": [
          20.6,
          10.6,
          18.9,
          14.5,
          6.1,
          21.7,
          16.2,
          15,
          19.5,
          15,
          16.7,
          17.8
         ],
         "yaxis": "y"
        },
        {
         "fillpattern": {
          "shape": ""
         },
         "hovertemplate": "Tipo de Delito=Robo Lugar Habitado<br>mes=%{x}<br>Tasa de Delito cada/100.000 hab.=%{y}<extra></extra>",
         "legendgroup": "Robo Lugar Habitado",
         "line": {
          "color": "#2ca02c"
         },
         "marker": {
          "symbol": "circle"
         },
         "mode": "lines",
         "name": "Robo Lugar Habitado",
         "orientation": "v",
         "showlegend": true,
         "stackgroup": "1",
         "type": "scatter",
         "x": [
          "Abril",
          "Agosto",
          "Diciembre",
          "Enero",
          "Febrero",
          "Julio",
          "Junio",
          "Marzo",
          "Mayo",
          "Noviembre",
          "Octubre",
          "Septiembre"
         ],
         "xaxis": "x",
         "y": [
          31.2,
          31.7,
          29.5,
          49.6,
          37.9,
          32.9,
          31.7,
          32.3,
          41.2,
          35.6,
          35.6,
          41.2
         ],
         "yaxis": "y"
        },
        {
         "fillpattern": {
          "shape": ""
         },
         "hovertemplate": "Tipo de Delito=Robo Lugar No Habitado<br>mes=%{x}<br>Tasa de Delito cada/100.000 hab.=%{y}<extra></extra>",
         "legendgroup": "Robo Lugar No Habitado",
         "line": {
          "color": "#d62728"
         },
         "marker": {
          "symbol": "circle"
         },
         "mode": "lines",
         "name": "Robo Lugar No Habitado",
         "orientation": "v",
         "showlegend": true,
         "stackgroup": "1",
         "type": "scatter",
         "x": [
          "Abril",
          "Agosto",
          "Diciembre",
          "Enero",
          "Febrero",
          "Julio",
          "Junio",
          "Marzo",
          "Mayo",
          "Noviembre",
          "Octubre",
          "Septiembre"
         ],
         "xaxis": "x",
         "y": [
          29.5,
          36.2,
          36.8,
          25.1,
          20,
          31.7,
          26.2,
          25.6,
          23.4,
          32.3,
          40.1,
          31.7
         ],
         "yaxis": "y"
        },
        {
         "fillpattern": {
          "shape": ""
         },
         "hovertemplate": "Tipo de Delito=Robo de Vehículo<br>mes=%{x}<br>Tasa de Delito cada/100.000 hab.=%{y}<extra></extra>",
         "legendgroup": "Robo de Vehículo",
         "line": {
          "color": "#9467bd"
         },
         "marker": {
          "symbol": "circle"
         },
         "mode": "lines",
         "name": "Robo de Vehículo",
         "orientation": "v",
         "showlegend": true,
         "stackgroup": "1",
         "type": "scatter",
         "x": [
          "Abril",
          "Agosto",
          "Diciembre",
          "Enero",
          "Febrero",
          "Julio",
          "Junio",
          "Marzo",
          "Mayo",
          "Noviembre",
          "Octubre",
          "Septiembre"
         ],
         "xaxis": "x",
         "y": [
          3.9,
          2.8,
          8.4,
          5.6,
          2.8,
          6.7,
          3.9,
          2.2,
          8.9,
          3.9,
          7.2,
          7.2
         ],
         "yaxis": "y"
        },
        {
         "fillpattern": {
          "shape": ""
         },
         "hovertemplate": "Tipo de Delito=Robo Accesorio Vehículo<br>mes=%{x}<br>Tasa de Delito cada/100.000 hab.=%{y}<extra></extra>",
         "legendgroup": "Robo Accesorio Vehículo",
         "line": {
          "color": "#8c564b"
         },
         "marker": {
          "symbol": "circle"
         },
         "mode": "lines",
         "name": "Robo Accesorio Vehículo",
         "orientation": "v",
         "showlegend": true,
         "stackgroup": "1",
         "type": "scatter",
         "x": [
          "Abril",
          "Agosto",
          "Diciembre",
          "Enero",
          "Febrero",
          "Julio",
          "Junio",
          "Marzo",
          "Mayo",
          "Noviembre",
          "Octubre",
          "Septiembre"
         ],
         "xaxis": "x",
         "y": [
          22.8,
          31.2,
          34,
          28.4,
          26.2,
          29,
          40.7,
          23.4,
          29,
          27.8,
          25.1,
          38.4
         ],
         "yaxis": "y"
        },
        {
         "fillpattern": {
          "shape": ""
         },
         "hovertemplate": "Tipo de Delito=Otros Robos con Fuerza<br>mes=%{x}<br>Tasa de Delito cada/100.000 hab.=%{y}<extra></extra>",
         "legendgroup": "Otros Robos con Fuerza",
         "line": {
          "color": "#e377c2"
         },
         "marker": {
          "symbol": "circle"
         },
         "mode": "lines",
         "name": "Otros Robos con Fuerza",
         "orientation": "v",
         "showlegend": true,
         "stackgroup": "1",
         "type": "scatter",
         "x": [
          "Abril",
          "Agosto",
          "Diciembre",
          "Enero",
          "Febrero",
          "Julio",
          "Junio",
          "Marzo",
          "Mayo",
          "Noviembre",
          "Octubre",
          "Septiembre"
         ],
         "xaxis": "x",
         "y": [
          3.9,
          7.2,
          2.8,
          4.5,
          1.7,
          3.3,
          5,
          10,
          7.2,
          7.2,
          10.6,
          5
         ],
         "yaxis": "y"
        },
        {
         "fillpattern": {
          "shape": ""
         },
         "hovertemplate": "Tipo de Delito=Hurtos<br>mes=%{x}<br>Tasa de Delito cada/100.000 hab.=%{y}<extra></extra>",
         "legendgroup": "Hurtos",
         "line": {
          "color": "#7f7f7f"
         },
         "marker": {
          "symbol": "circle"
         },
         "mode": "lines",
         "name": "Hurtos",
         "orientation": "v",
         "showlegend": true,
         "stackgroup": "1",
         "type": "scatter",
         "x": [
          "Abril",
          "Agosto",
          "Diciembre",
          "Enero",
          "Febrero",
          "Julio",
          "Junio",
          "Marzo",
          "Mayo",
          "Noviembre",
          "Octubre",
          "Septiembre"
         ],
         "xaxis": "x",
         "y": [
          91.9,
          86.3,
          94.7,
          78,
          79.1,
          76.9,
          83,
          93,
          99.1,
          104.7,
          100.2,
          86.9
         ],
         "yaxis": "y"
        },
        {
         "fillpattern": {
          "shape": ""
         },
         "hovertemplate": "Tipo de Delito=Lesiones<br>mes=%{x}<br>Tasa de Delito cada/100.000 hab.=%{y}<extra></extra>",
         "legendgroup": "Lesiones",
         "line": {
          "color": "#bcbd22"
         },
         "marker": {
          "symbol": "circle"
         },
         "mode": "lines",
         "name": "Lesiones",
         "orientation": "v",
         "showlegend": true,
         "stackgroup": "1",
         "type": "scatter",
         "x": [
          "Abril",
          "Agosto",
          "Diciembre",
          "Enero",
          "Febrero",
          "Julio",
          "Junio",
          "Marzo",
          "Mayo",
          "Noviembre",
          "Octubre",
          "Septiembre"
         ],
         "xaxis": "x",
         "y": [
          41.8,
          32.3,
          36.8,
          32.3,
          26.2,
          21.2,
          34,
          41.8,
          34,
          50.1,
          32.3,
          29.5
         ],
         "yaxis": "y"
        },
        {
         "fillpattern": {
          "shape": ""
         },
         "hovertemplate": "Tipo de Delito=Homicidios<br>mes=%{x}<br>Tasa de Delito cada/100.000 hab.=%{y}<extra></extra>",
         "legendgroup": "Homicidios",
         "line": {
          "color": "#17becf"
         },
         "marker": {
          "symbol": "circle"
         },
         "mode": "lines",
         "name": "Homicidios",
         "orientation": "v",
         "showlegend": true,
         "stackgroup": "1",
         "type": "scatter",
         "visible": true,
         "x": [
          "Abril",
          "Agosto",
          "Diciembre",
          "Enero",
          "Febrero",
          "Julio",
          "Junio",
          "Marzo",
          "Mayo",
          "Noviembre",
          "Octubre",
          "Septiembre"
         ],
         "xaxis": "x",
         "y": [
          0,
          0,
          0,
          0.6,
          0,
          0,
          1.1,
          0,
          0,
          1.7,
          0,
          0
         ],
         "yaxis": "y"
        },
        {
         "fillpattern": {
          "shape": ""
         },
         "hovertemplate": "Tipo de Delito=Violación<br>mes=%{x}<br>Tasa de Delito cada/100.000 hab.=%{y}<extra></extra>",
         "legendgroup": "Violación",
         "line": {
          "color": "#ff9896"
         },
         "marker": {
          "symbol": "circle"
         },
         "mode": "lines",
         "name": "Violación",
         "orientation": "v",
         "showlegend": true,
         "stackgroup": "1",
         "type": "scatter",
         "x": [
          "Abril",
          "Agosto",
          "Diciembre",
          "Enero",
          "Febrero",
          "Julio",
          "Junio",
          "Marzo",
          "Mayo",
          "Noviembre",
          "Octubre",
          "Septiembre"
         ],
         "xaxis": "x",
         "y": [
          4.5,
          2.2,
          4.5,
          5.6,
          2.8,
          0.6,
          5.6,
          2.2,
          5,
          3.3,
          1.1,
          5
         ],
         "yaxis": "y"
        },
        {
         "fillpattern": {
          "shape": ""
         },
         "hovertemplate": "Tipo de Delito=Robo por Sorpresa<br>mes=%{x}<br>Tasa de Delito cada/100.000 hab.=%{y}<extra></extra>",
         "legendgroup": "Robo por Sorpresa",
         "line": {
          "color": "#ff7f0e"
         },
         "marker": {
          "symbol": "circle"
         },
         "mode": "lines",
         "name": "Robo por Sorpresa",
         "orientation": "v",
         "showlegend": true,
         "stackgroup": "1",
         "type": "scatter",
         "x": [
          "Abril",
          "Agosto",
          "Diciembre",
          "Enero",
          "Febrero",
          "Julio",
          "Junio",
          "Marzo",
          "Mayo",
          "Noviembre",
          "Octubre",
          "Septiembre"
         ],
         "xaxis": "x",
         "y": [
          8.9,
          3.9,
          6.7,
          6.1,
          6.7,
          4.5,
          7.8,
          6.7,
          5,
          9.5,
          7.2,
          5.6
         ],
         "yaxis": "y"
        }
       ],
       "layout": {
        "annotations": [
         {
          "font": {
           "color": "black"
          },
          "showarrow": false,
          "text": "Verano",
          "x": 1.5,
          "y": -2.5
         },
         {
          "font": {
           "color": "black"
          },
          "showarrow": false,
          "text": "Otoño",
          "x": 4.5,
          "y": -2.5
         },
         {
          "font": {
           "color": "black"
          },
          "showarrow": false,
          "text": "Invierno",
          "x": 7.5,
          "y": -2.5
         },
         {
          "font": {
           "color": "black"
          },
          "showarrow": false,
          "text": "Primavera",
          "x": 10.5,
          "y": -2.5
         }
        ],
        "autosize": true,
        "legend": {
         "title": {
          "text": "Tipo de Delito"
         },
         "tracegroupgap": 0
        },
        "shapes": [
         {
          "line": {
           "color": "black",
           "dash": "dash",
           "width": 2
          },
          "type": "line",
          "x0": "Marzo",
          "x1": "Marzo",
          "xref": "x",
          "y0": 0,
          "y1": 1,
          "yref": "paper"
         },
         {
          "line": {
           "color": "black",
           "dash": "dash",
           "width": 2
          },
          "type": "line",
          "x0": "Junio",
          "x1": "Junio",
          "xref": "x",
          "y0": 0,
          "y1": 1,
          "yref": "paper"
         },
         {
          "line": {
           "color": "black",
           "dash": "dash",
           "width": 2
          },
          "type": "line",
          "x0": "Septiembre",
          "x1": "Septiembre",
          "xref": "x",
          "y0": 0,
          "y1": 1,
          "yref": "paper"
         },
         {
          "line": {
           "color": "black",
           "dash": "dash",
           "width": 2
          },
          "type": "line",
          "x0": "Diciembre",
          "x1": "Diciembre",
          "xref": "x",
          "y0": 0,
          "y1": 1,
          "yref": "paper"
         }
        ],
        "template": {
         "data": {
          "bar": [
           {
            "error_x": {
             "color": "#2a3f5f"
            },
            "error_y": {
             "color": "#2a3f5f"
            },
            "marker": {
             "line": {
              "color": "#E5ECF6",
              "width": 0.5
             },
             "pattern": {
              "fillmode": "overlay",
              "size": 10,
              "solidity": 0.2
             }
            },
            "type": "bar"
           }
          ],
          "barpolar": [
           {
            "marker": {
             "line": {
              "color": "#E5ECF6",
              "width": 0.5
             },
             "pattern": {
              "fillmode": "overlay",
              "size": 10,
              "solidity": 0.2
             }
            },
            "type": "barpolar"
           }
          ],
          "carpet": [
           {
            "aaxis": {
             "endlinecolor": "#2a3f5f",
             "gridcolor": "white",
             "linecolor": "white",
             "minorgridcolor": "white",
             "startlinecolor": "#2a3f5f"
            },
            "baxis": {
             "endlinecolor": "#2a3f5f",
             "gridcolor": "white",
             "linecolor": "white",
             "minorgridcolor": "white",
             "startlinecolor": "#2a3f5f"
            },
            "type": "carpet"
           }
          ],
          "choropleth": [
           {
            "colorbar": {
             "outlinewidth": 0,
             "ticks": ""
            },
            "type": "choropleth"
           }
          ],
          "contour": [
           {
            "colorbar": {
             "outlinewidth": 0,
             "ticks": ""
            },
            "colorscale": [
             [
              0,
              "#0d0887"
             ],
             [
              0.1111111111111111,
              "#46039f"
             ],
             [
              0.2222222222222222,
              "#7201a8"
             ],
             [
              0.3333333333333333,
              "#9c179e"
             ],
             [
              0.4444444444444444,
              "#bd3786"
             ],
             [
              0.5555555555555556,
              "#d8576b"
             ],
             [
              0.6666666666666666,
              "#ed7953"
             ],
             [
              0.7777777777777778,
              "#fb9f3a"
             ],
             [
              0.8888888888888888,
              "#fdca26"
             ],
             [
              1,
              "#f0f921"
             ]
            ],
            "type": "contour"
           }
          ],
          "contourcarpet": [
           {
            "colorbar": {
             "outlinewidth": 0,
             "ticks": ""
            },
            "type": "contourcarpet"
           }
          ],
          "heatmap": [
           {
            "colorbar": {
             "outlinewidth": 0,
             "ticks": ""
            },
            "colorscale": [
             [
              0,
              "#0d0887"
             ],
             [
              0.1111111111111111,
              "#46039f"
             ],
             [
              0.2222222222222222,
              "#7201a8"
             ],
             [
              0.3333333333333333,
              "#9c179e"
             ],
             [
              0.4444444444444444,
              "#bd3786"
             ],
             [
              0.5555555555555556,
              "#d8576b"
             ],
             [
              0.6666666666666666,
              "#ed7953"
             ],
             [
              0.7777777777777778,
              "#fb9f3a"
             ],
             [
              0.8888888888888888,
              "#fdca26"
             ],
             [
              1,
              "#f0f921"
             ]
            ],
            "type": "heatmap"
           }
          ],
          "heatmapgl": [
           {
            "colorbar": {
             "outlinewidth": 0,
             "ticks": ""
            },
            "colorscale": [
             [
              0,
              "#0d0887"
             ],
             [
              0.1111111111111111,
              "#46039f"
             ],
             [
              0.2222222222222222,
              "#7201a8"
             ],
             [
              0.3333333333333333,
              "#9c179e"
             ],
             [
              0.4444444444444444,
              "#bd3786"
             ],
             [
              0.5555555555555556,
              "#d8576b"
             ],
             [
              0.6666666666666666,
              "#ed7953"
             ],
             [
              0.7777777777777778,
              "#fb9f3a"
             ],
             [
              0.8888888888888888,
              "#fdca26"
             ],
             [
              1,
              "#f0f921"
             ]
            ],
            "type": "heatmapgl"
           }
          ],
          "histogram": [
           {
            "marker": {
             "pattern": {
              "fillmode": "overlay",
              "size": 10,
              "solidity": 0.2
             }
            },
            "type": "histogram"
           }
          ],
          "histogram2d": [
           {
            "colorbar": {
             "outlinewidth": 0,
             "ticks": ""
            },
            "colorscale": [
             [
              0,
              "#0d0887"
             ],
             [
              0.1111111111111111,
              "#46039f"
             ],
             [
              0.2222222222222222,
              "#7201a8"
             ],
             [
              0.3333333333333333,
              "#9c179e"
             ],
             [
              0.4444444444444444,
              "#bd3786"
             ],
             [
              0.5555555555555556,
              "#d8576b"
             ],
             [
              0.6666666666666666,
              "#ed7953"
             ],
             [
              0.7777777777777778,
              "#fb9f3a"
             ],
             [
              0.8888888888888888,
              "#fdca26"
             ],
             [
              1,
              "#f0f921"
             ]
            ],
            "type": "histogram2d"
           }
          ],
          "histogram2dcontour": [
           {
            "colorbar": {
             "outlinewidth": 0,
             "ticks": ""
            },
            "colorscale": [
             [
              0,
              "#0d0887"
             ],
             [
              0.1111111111111111,
              "#46039f"
             ],
             [
              0.2222222222222222,
              "#7201a8"
             ],
             [
              0.3333333333333333,
              "#9c179e"
             ],
             [
              0.4444444444444444,
              "#bd3786"
             ],
             [
              0.5555555555555556,
              "#d8576b"
             ],
             [
              0.6666666666666666,
              "#ed7953"
             ],
             [
              0.7777777777777778,
              "#fb9f3a"
             ],
             [
              0.8888888888888888,
              "#fdca26"
             ],
             [
              1,
              "#f0f921"
             ]
            ],
            "type": "histogram2dcontour"
           }
          ],
          "mesh3d": [
           {
            "colorbar": {
             "outlinewidth": 0,
             "ticks": ""
            },
            "type": "mesh3d"
           }
          ],
          "parcoords": [
           {
            "line": {
             "colorbar": {
              "outlinewidth": 0,
              "ticks": ""
             }
            },
            "type": "parcoords"
           }
          ],
          "pie": [
           {
            "automargin": true,
            "type": "pie"
           }
          ],
          "scatter": [
           {
            "fillpattern": {
             "fillmode": "overlay",
             "size": 10,
             "solidity": 0.2
            },
            "type": "scatter"
           }
          ],
          "scatter3d": [
           {
            "line": {
             "colorbar": {
              "outlinewidth": 0,
              "ticks": ""
             }
            },
            "marker": {
             "colorbar": {
              "outlinewidth": 0,
              "ticks": ""
             }
            },
            "type": "scatter3d"
           }
          ],
          "scattercarpet": [
           {
            "marker": {
             "colorbar": {
              "outlinewidth": 0,
              "ticks": ""
             }
            },
            "type": "scattercarpet"
           }
          ],
          "scattergeo": [
           {
            "marker": {
             "colorbar": {
              "outlinewidth": 0,
              "ticks": ""
             }
            },
            "type": "scattergeo"
           }
          ],
          "scattergl": [
           {
            "marker": {
             "colorbar": {
              "outlinewidth": 0,
              "ticks": ""
             }
            },
            "type": "scattergl"
           }
          ],
          "scattermapbox": [
           {
            "marker": {
             "colorbar": {
              "outlinewidth": 0,
              "ticks": ""
             }
            },
            "type": "scattermapbox"
           }
          ],
          "scatterpolar": [
           {
            "marker": {
             "colorbar": {
              "outlinewidth": 0,
              "ticks": ""
             }
            },
            "type": "scatterpolar"
           }
          ],
          "scatterpolargl": [
           {
            "marker": {
             "colorbar": {
              "outlinewidth": 0,
              "ticks": ""
             }
            },
            "type": "scatterpolargl"
           }
          ],
          "scatterternary": [
           {
            "marker": {
             "colorbar": {
              "outlinewidth": 0,
              "ticks": ""
             }
            },
            "type": "scatterternary"
           }
          ],
          "surface": [
           {
            "colorbar": {
             "outlinewidth": 0,
             "ticks": ""
            },
            "colorscale": [
             [
              0,
              "#0d0887"
             ],
             [
              0.1111111111111111,
              "#46039f"
             ],
             [
              0.2222222222222222,
              "#7201a8"
             ],
             [
              0.3333333333333333,
              "#9c179e"
             ],
             [
              0.4444444444444444,
              "#bd3786"
             ],
             [
              0.5555555555555556,
              "#d8576b"
             ],
             [
              0.6666666666666666,
              "#ed7953"
             ],
             [
              0.7777777777777778,
              "#fb9f3a"
             ],
             [
              0.8888888888888888,
              "#fdca26"
             ],
             [
              1,
              "#f0f921"
             ]
            ],
            "type": "surface"
           }
          ],
          "table": [
           {
            "cells": {
             "fill": {
              "color": "#EBF0F8"
             },
             "line": {
              "color": "white"
             }
            },
            "header": {
             "fill": {
              "color": "#C8D4E3"
             },
             "line": {
              "color": "white"
             }
            },
            "type": "table"
           }
          ]
         },
         "layout": {
          "annotationdefaults": {
           "arrowcolor": "#2a3f5f",
           "arrowhead": 0,
           "arrowwidth": 1
          },
          "autotypenumbers": "strict",
          "coloraxis": {
           "colorbar": {
            "outlinewidth": 0,
            "ticks": ""
           }
          },
          "colorscale": {
           "diverging": [
            [
             0,
             "#8e0152"
            ],
            [
             0.1,
             "#c51b7d"
            ],
            [
             0.2,
             "#de77ae"
            ],
            [
             0.3,
             "#f1b6da"
            ],
            [
             0.4,
             "#fde0ef"
            ],
            [
             0.5,
             "#f7f7f7"
            ],
            [
             0.6,
             "#e6f5d0"
            ],
            [
             0.7,
             "#b8e186"
            ],
            [
             0.8,
             "#7fbc41"
            ],
            [
             0.9,
             "#4d9221"
            ],
            [
             1,
             "#276419"
            ]
           ],
           "sequential": [
            [
             0,
             "#0d0887"
            ],
            [
             0.1111111111111111,
             "#46039f"
            ],
            [
             0.2222222222222222,
             "#7201a8"
            ],
            [
             0.3333333333333333,
             "#9c179e"
            ],
            [
             0.4444444444444444,
             "#bd3786"
            ],
            [
             0.5555555555555556,
             "#d8576b"
            ],
            [
             0.6666666666666666,
             "#ed7953"
            ],
            [
             0.7777777777777778,
             "#fb9f3a"
            ],
            [
             0.8888888888888888,
             "#fdca26"
            ],
            [
             1,
             "#f0f921"
            ]
           ],
           "sequentialminus": [
            [
             0,
             "#0d0887"
            ],
            [
             0.1111111111111111,
             "#46039f"
            ],
            [
             0.2222222222222222,
             "#7201a8"
            ],
            [
             0.3333333333333333,
             "#9c179e"
            ],
            [
             0.4444444444444444,
             "#bd3786"
            ],
            [
             0.5555555555555556,
             "#d8576b"
            ],
            [
             0.6666666666666666,
             "#ed7953"
            ],
            [
             0.7777777777777778,
             "#fb9f3a"
            ],
            [
             0.8888888888888888,
             "#fdca26"
            ],
            [
             1,
             "#f0f921"
            ]
           ]
          },
          "colorway": [
           "#636efa",
           "#EF553B",
           "#00cc96",
           "#ab63fa",
           "#FFA15A",
           "#19d3f3",
           "#FF6692",
           "#B6E880",
           "#FF97FF",
           "#FECB52"
          ],
          "font": {
           "color": "#2a3f5f"
          },
          "geo": {
           "bgcolor": "white",
           "lakecolor": "white",
           "landcolor": "#E5ECF6",
           "showlakes": true,
           "showland": true,
           "subunitcolor": "white"
          },
          "hoverlabel": {
           "align": "left"
          },
          "hovermode": "closest",
          "mapbox": {
           "style": "light"
          },
          "paper_bgcolor": "white",
          "plot_bgcolor": "#E5ECF6",
          "polar": {
           "angularaxis": {
            "gridcolor": "white",
            "linecolor": "white",
            "ticks": ""
           },
           "bgcolor": "#E5ECF6",
           "radialaxis": {
            "gridcolor": "white",
            "linecolor": "white",
            "ticks": ""
           }
          },
          "scene": {
           "xaxis": {
            "backgroundcolor": "#E5ECF6",
            "gridcolor": "white",
            "gridwidth": 2,
            "linecolor": "white",
            "showbackground": true,
            "ticks": "",
            "zerolinecolor": "white"
           },
           "yaxis": {
            "backgroundcolor": "#E5ECF6",
            "gridcolor": "white",
            "gridwidth": 2,
            "linecolor": "white",
            "showbackground": true,
            "ticks": "",
            "zerolinecolor": "white"
           },
           "zaxis": {
            "backgroundcolor": "#E5ECF6",
            "gridcolor": "white",
            "gridwidth": 2,
            "linecolor": "white",
            "showbackground": true,
            "ticks": "",
            "zerolinecolor": "white"
           }
          },
          "shapedefaults": {
           "line": {
            "color": "#2a3f5f"
           }
          },
          "ternary": {
           "aaxis": {
            "gridcolor": "white",
            "linecolor": "white",
            "ticks": ""
           },
           "baxis": {
            "gridcolor": "white",
            "linecolor": "white",
            "ticks": ""
           },
           "bgcolor": "#E5ECF6",
           "caxis": {
            "gridcolor": "white",
            "linecolor": "white",
            "ticks": ""
           }
          },
          "title": {
           "x": 0.05
          },
          "xaxis": {
           "automargin": true,
           "gridcolor": "white",
           "linecolor": "white",
           "ticks": "",
           "title": {
            "standoff": 15
           },
           "zerolinecolor": "white",
           "zerolinewidth": 2
          },
          "yaxis": {
           "automargin": true,
           "gridcolor": "white",
           "linecolor": "white",
           "ticks": "",
           "title": {
            "standoff": 15
           },
           "zerolinecolor": "white",
           "zerolinewidth": 2
          }
         }
        },
        "title": {
         "text": "Streamgraph de Tasas de Delitos en Valdivia"
        },
        "xaxis": {
         "anchor": "y",
         "autorange": true,
         "categoryarray": [
          "Enero",
          "Febrero",
          "Marzo",
          "Abril",
          "Mayo",
          "Junio",
          "Julio",
          "Agosto",
          "Septiembre",
          "Octubre",
          "Noviembre",
          "Diciembre"
         ],
         "categoryorder": "array",
         "domain": [
          0,
          1
         ],
         "range": [
          0,
          11.014745308310992
         ],
         "title": {
          "text": "mes"
         },
         "type": "category"
        },
        "yaxis": {
         "anchor": "x",
         "autorange": true,
         "domain": [
          0,
          1
         ],
         "range": [
          -19.77058823529412,
          307.46160990712076
         ],
         "title": {
          "text": "Tasa de Delito cada/100.000 hab."
         },
         "type": "linear"
        }
       }
      },
      "image/png": "[encoded data removed]",
      "text/html": [
       "<div>                            <div id=\"77c5b4e1-ab83-46e4-9428-e2ac45e29581\" class=\"plotly-graph-div\" style=\"height:525px; width:100%;\"></div>            <script type=\"text/javascript\">                require([\"plotly\"], function(Plotly) {                    window.PLOTLYENV=window.PLOTLYENV || {};                                    if (document.getElementById(\"77c5b4e1-ab83-46e4-9428-e2ac45e29581\")) {                    Plotly.newPlot(                        \"77c5b4e1-ab83-46e4-9428-e2ac45e29581\",                        [{\"fillpattern\":{\"shape\":\"\"},\"hovertemplate\":\"Tipo de Delito=Robo con Violencia o Intimidaci\\u00f3n\\u003cbr\\u003emes=%{x}\\u003cbr\\u003eTasa de Delito cada\\u002f100.000 hab.=%{y}\\u003cextra\\u003e\\u003c\\u002fextra\\u003e\",\"legendgroup\":\"Robo con Violencia o Intimidaci\\u00f3n\",\"line\":{\"color\":\"#1f77b4\"},\"marker\":{\"symbol\":\"circle\"},\"mode\":\"lines\",\"name\":\"Robo con Violencia o Intimidaci\\u00f3n\",\"orientation\":\"v\",\"showlegend\":true,\"stackgroup\":\"1\",\"x\":[\"Abril\",\"Agosto\",\"Diciembre\",\"Enero\",\"Febrero\",\"Julio\",\"Junio\",\"Marzo\",\"Mayo\",\"Noviembre\",\"Octubre\",\"Septiembre\"],\"xaxis\":\"x\",\"y\":[20.6,10.6,18.9,14.5,6.1,21.7,16.2,15.0,19.5,15.0,16.7,17.8],\"yaxis\":\"y\",\"type\":\"scatter\"},{\"fillpattern\":{\"shape\":\"\"},\"hovertemplate\":\"Tipo de Delito=Robo Lugar Habitado\\u003cbr\\u003emes=%{x}\\u003cbr\\u003eTasa de Delito cada\\u002f100.000 hab.=%{y}\\u003cextra\\u003e\\u003c\\u002fextra\\u003e\",\"legendgroup\":\"Robo Lugar Habitado\",\"line\":{\"color\":\"#2ca02c\"},\"marker\":{\"symbol\":\"circle\"},\"mode\":\"lines\",\"name\":\"Robo Lugar Habitado\",\"orientation\":\"v\",\"showlegend\":true,\"stackgroup\":\"1\",\"x\":[\"Abril\",\"Agosto\",\"Diciembre\",\"Enero\",\"Febrero\",\"Julio\",\"Junio\",\"Marzo\",\"Mayo\",\"Noviembre\",\"Octubre\",\"Septiembre\"],\"xaxis\":\"x\",\"y\":[31.2,31.7,29.5,49.6,37.9,32.9,31.7,32.3,41.2,35.6,35.6,41.2],\"yaxis\":\"y\",\"type\":\"scatter\"},{\"fillpattern\":{\"shape\":\"\"},\"hovertemplate\":\"Tipo de Delito=Robo Lugar No Habitado\\u003cbr\\u003emes=%{x}\\u003cbr\\u003eTasa de Delito cada\\u002f100.000 hab.=%{y}\\u003cextra\\u003e\\u003c\\u002fextra\\u003e\",\"legendgroup\":\"Robo Lugar No Habitado\",\"line\":{\"color\":\"#d62728\"},\"marker\":{\"symbol\":\"circle\"},\"mode\":\"lines\",\"name\":\"Robo Lugar No Habitado\",\"orientation\":\"v\",\"showlegend\":true,\"stackgroup\":\"1\",\"x\":[\"Abril\",\"Agosto\",\"Diciembre\",\"Enero\",\"Febrero\",\"Julio\",\"Junio\",\"Marzo\",\"Mayo\",\"Noviembre\",\"Octubre\",\"Septiembre\"],\"xaxis\":\"x\",\"y\":[29.5,36.2,36.8,25.1,20.0,31.7,26.2,25.6,23.4,32.3,40.1,31.7],\"yaxis\":\"y\",\"type\":\"scatter\"},{\"fillpattern\":{\"shape\":\"\"},\"hovertemplate\":\"Tipo de Delito=Robo de Veh\\u00edculo\\u003cbr\\u003emes=%{x}\\u003cbr\\u003eTasa de Delito cada\\u002f100.000 hab.=%{y}\\u003cextra\\u003e\\u003c\\u002fextra\\u003e\",\"legendgroup\":\"Robo de Veh\\u00edculo\",\"line\":{\"color\":\"#9467bd\"},\"marker\":{\"symbol\":\"circle\"},\"mode\":\"lines\",\"name\":\"Robo de Veh\\u00edculo\",\"orientation\":\"v\",\"showlegend\":true,\"stackgroup\":\"1\",\"x\":[\"Abril\",\"Agosto\",\"Diciembre\",\"Enero\",\"Febrero\",\"Julio\",\"Junio\",\"Marzo\",\"Mayo\",\"Noviembre\",\"Octubre\",\"Septiembre\"],\"xaxis\":\"x\",\"y\":[3.9,2.8,8.4,5.6,2.8,6.7,3.9,2.2,8.9,3.9,7.2,7.2],\"yaxis\":\"y\",\"type\":\"scatter\"},{\"fillpattern\":{\"shape\":\"\"},\"hovertemplate\":\"Tipo de Delito=Robo Accesorio Veh\\u00edculo\\u003cbr\\u003emes=%{x}\\u003cbr\\u003eTasa de Delito cada\\u002f100.000 hab.=%{y}\\u003cextra\\u003e\\u003c\\u002fextra\\u003e\",\"legendgroup\":\"Robo Accesorio Veh\\u00edculo\",\"line\":{\"color\":\"#8c564b\"},\"marker\":{\"symbol\":\"circle\"},\"mode\":\"lines\",\"name\":\"Robo Accesorio Veh\\u00edculo\",\"orientation\":\"v\",\"showlegend\":true,\"stackgroup\":\"1\",\"x\":[\"Abril\",\"Agosto\",\"Diciembre\",\"Enero\",\"Febrero\",\"Julio\",\"Junio\",\"Marzo\",\"Mayo\",\"Noviembre\",\"Octubre\",\"Septiembre\"],\"xaxis\":\"x\",\"y\":[22.8,31.2,34.0,28.4,26.2,29.0,40.7,23.4,29.0,27.8,25.1,38.4],\"yaxis\":\"y\",\"type\":\"scatter\"},{\"fillpattern\":{\"shape\":\"\"},\"hovertemplate\":\"Tipo de Delito=Otros Robos con Fuerza\\u003cbr\\u003emes=%{x}\\u003cbr\\u003eTasa de Delito cada\\u002f100.000 hab.=%{y}\\u003cextra\\u003e\\u003c\\u002fextra\\u003e\",\"legendgroup\":\"Otros Robos con Fuerza\",\"line\":{\"color\":\"#e377c2\"},\"marker\":{\"symbol\":\"circle\"},\"mode\":\"lines\",\"name\":\"Otros Robos con Fuerza\",\"orientation\":\"v\",\"showlegend\":true,\"stackgroup\":\"1\",\"x\":[\"Abril\",\"Agosto\",\"Diciembre\",\"Enero\",\"Febrero\",\"Julio\",\"Junio\",\"Marzo\",\"Mayo\",\"Noviembre\",\"Octubre\",\"Septiembre\"],\"xaxis\":\"x\",\"y\":[3.9,7.2,2.8,4.5,1.7,3.3,5.0,10.0,7.2,7.2,10.6,5.0],\"yaxis\":\"y\",\"type\":\"scatter\"},{\"fillpattern\":{\"shape\":\"\"},\"hovertemplate\":\"Tipo de Delito=Hurtos\\u003cbr\\u003emes=%{x}\\u003cbr\\u003eTasa de Delito cada\\u002f100.000 hab.=%{y}\\u003cextra\\u003e\\u003c\\u002fextra\\u003e\",\"legendgroup\":\"Hurtos\",\"line\":{\"color\":\"#7f7f7f\"},\"marker\":{\"symbol\":\"circle\"},\"mode\":\"lines\",\"name\":\"Hurtos\",\"orientation\":\"v\",\"showlegend\":true,\"stackgroup\":\"1\",\"x\":[\"Abril\",\"Agosto\",\"Diciembre\",\"Enero\",\"Febrero\",\"Julio\",\"Junio\",\"Marzo\",\"Mayo\",\"Noviembre\",\"Octubre\",\"Septiembre\"],\"xaxis\":\"x\",\"y\":[91.9,86.3,94.7,78.0,79.1,76.9,83.0,93.0,99.1,104.7,100.2,86.9],\"yaxis\":\"y\",\"type\":\"scatter\"},{\"fillpattern\":{\"shape\":\"\"},\"hovertemplate\":\"Tipo de Delito=Lesiones\\u003cbr\\u003emes=%{x}\\u003cbr\\u003eTasa de Delito cada\\u002f100.000 hab.=%{y}\\u003cextra\\u003e\\u003c\\u002fextra\\u003e\",\"legendgroup\":\"Lesiones\",\"line\":{\"color\":\"#bcbd22\"},\"marker\":{\"symbol\":\"circle\"},\"mode\":\"lines\",\"name\":\"Lesiones\",\"orientation\":\"v\",\"showlegend\":true,\"stackgroup\":\"1\",\"x\":[\"Abril\",\"Agosto\",\"Diciembre\",\"Enero\",\"Febrero\",\"Julio\",\"Junio\",\"Marzo\",\"Mayo\",\"Noviembre\",\"Octubre\",\"Septiembre\"],\"xaxis\":\"x\",\"y\":[41.8,32.3,36.8,32.3,26.2,21.2,34.0,41.8,34.0,50.1,32.3,29.5],\"yaxis\":\"y\",\"type\":\"scatter\"},{\"fillpattern\":{\"shape\":\"\"},\"hovertemplate\":\"Tipo de Delito=Homicidios\\u003cbr\\u003emes=%{x}\\u003cbr\\u003eTasa de Delito cada\\u002f100.000 hab.=%{y}\\u003cextra\\u003e\\u003c\\u002fextra\\u003e\",\"legendgroup\":\"Homicidios\",\"line\":{\"color\":\"#17becf\"},\"marker\":{\"symbol\":\"circle\"},\"mode\":\"lines\",\"name\":\"Homicidios\",\"orientation\":\"v\",\"showlegend\":true,\"stackgroup\":\"1\",\"x\":[\"Abril\",\"Agosto\",\"Diciembre\",\"Enero\",\"Febrero\",\"Julio\",\"Junio\",\"Marzo\",\"Mayo\",\"Noviembre\",\"Octubre\",\"Septiembre\"],\"xaxis\":\"x\",\"y\":[0.0,0.0,0.0,0.6,0.0,0.0,1.1,0.0,0.0,1.7,0.0,0.0],\"yaxis\":\"y\",\"type\":\"scatter\"},{\"fillpattern\":{\"shape\":\"\"},\"hovertemplate\":\"Tipo de Delito=Violaci\\u00f3n\\u003cbr\\u003emes=%{x}\\u003cbr\\u003eTasa de Delito cada\\u002f100.000 hab.=%{y}\\u003cextra\\u003e\\u003c\\u002fextra\\u003e\",\"legendgroup\":\"Violaci\\u00f3n\",\"line\":{\"color\":\"#ff9896\"},\"marker\":{\"symbol\":\"circle\"},\"mode\":\"lines\",\"name\":\"Violaci\\u00f3n\",\"orientation\":\"v\",\"showlegend\":true,\"stackgroup\":\"1\",\"x\":[\"Abril\",\"Agosto\",\"Diciembre\",\"Enero\",\"Febrero\",\"Julio\",\"Junio\",\"Marzo\",\"Mayo\",\"Noviembre\",\"Octubre\",\"Septiembre\"],\"xaxis\":\"x\",\"y\":[4.5,2.2,4.5,5.6,2.8,0.6,5.6,2.2,5.0,3.3,1.1,5.0],\"yaxis\":\"y\",\"type\":\"scatter\"},{\"fillpattern\":{\"shape\":\"\"},\"hovertemplate\":\"Tipo de Delito=Robo por Sorpresa\\u003cbr\\u003emes=%{x}\\u003cbr\\u003eTasa de Delito cada\\u002f100.000 hab.=%{y}\\u003cextra\\u003e\\u003c\\u002fextra\\u003e\",\"legendgroup\":\"Robo por Sorpresa\",\"line\":{\"color\":\"#ff7f0e\"},\"marker\":{\"symbol\":\"circle\"},\"mode\":\"lines\",\"name\":\"Robo por Sorpresa\",\"orientation\":\"v\",\"showlegend\":true,\"stackgroup\":\"1\",\"x\":[\"Abril\",\"Agosto\",\"Diciembre\",\"Enero\",\"Febrero\",\"Julio\",\"Junio\",\"Marzo\",\"Mayo\",\"Noviembre\",\"Octubre\",\"Septiembre\"],\"xaxis\":\"x\",\"y\":[8.9,3.9,6.7,6.1,6.7,4.5,7.8,6.7,5.0,9.5,7.2,5.6],\"yaxis\":\"y\",\"type\":\"scatter\"}],                        {\"template\":{\"data\":{\"histogram2dcontour\":[{\"type\":\"histogram2dcontour\",\"colorbar\":{\"outlinewidth\":0,\"ticks\":\"\"},\"colorscale\":[[0.0,\"#0d0887\"],[0.1111111111111111,\"#46039f\"],[0.2222222222222222,\"#7201a8\"],[0.3333333333333333,\"#9c179e\"],[0.4444444444444444,\"#bd3786\"],[0.5555555555555556,\"#d8576b\"],[0.6666666666666666,\"#ed7953\"],[0.7777777777777778,\"#fb9f3a\"],[0.8888888888888888,\"#fdca26\"],[1.0,\"#f0f921\"]]}],\"choropleth\":[{\"type\":\"choropleth\",\"colorbar\":{\"outlinewidth\":0,\"ticks\":\"\"}}],\"histogram2d\":[{\"type\":\"histogram2d\",\"colorbar\":{\"outlinewidth\":0,\"ticks\":\"\"},\"colorscale\":[[0.0,\"#0d0887\"],[0.1111111111111111,\"#46039f\"],[0.2222222222222222,\"#7201a8\"],[0.3333333333333333,\"#9c179e\"],[0.4444444444444444,\"#bd3786\"],[0.5555555555555556,\"#d8576b\"],[0.6666666666666666,\"#ed7953\"],[0.7777777777777778,\"#fb9f3a\"],[0.8888888888888888,\"#fdca26\"],[1.0,\"#f0f921\"]]}],\"heatmap\":[{\"type\":\"heatmap\",\"colorbar\":{\"outlinewidth\":0,\"ticks\":\"\"},\"colorscale\":[[0.0,\"#0d0887\"],[0.1111111111111111,\"#46039f\"],[0.2222222222222222,\"#7201a8\"],[0.3333333333333333,\"#9c179e\"],[0.4444444444444444,\"#bd3786\"],[0.5555555555555556,\"#d8576b\"],[0.6666666666666666,\"#ed7953\"],[0.7777777777777778,\"#fb9f3a\"],[0.8888888888888888,\"#fdca26\"],[1.0,\"#f0f921\"]]}],\"heatmapgl\":[{\"type\":\"heatmapgl\",\"colorbar\":{\"outlinewidth\":0,\"ticks\":\"\"},\"colorscale\":[[0.0,\"#0d0887\"],[0.1111111111111111,\"#46039f\"],[0.2222222222222222,\"#7201a8\"],[0.3333333333333333,\"#9c179e\"],[0.4444444444444444,\"#bd3786\"],[0.5555555555555556,\"#d8576b\"],[0.6666666666666666,\"#ed7953\"],[0.7777777777777778,\"#fb9f3a\"],[0.8888888888888888,\"#fdca26\"],[1.0,\"#f0f921\"]]}],\"contourcarpet\":[{\"type\":\"contourcarpet\",\"colorbar\":{\"outlinewidth\":0,\"ticks\":\"\"}}],\"contour\":[{\"type\":\"contour\",\"colorbar\":{\"outlinewidth\":0,\"ticks\":\"\"},\"colorscale\":[[0.0,\"#0d0887\"],[0.1111111111111111,\"#46039f\"],[0.2222222222222222,\"#7201a8\"],[0.3333333333333333,\"#9c179e\"],[0.4444444444444444,\"#bd3786\"],[0.5555555555555556,\"#d8576b\"],[0.6666666666666666,\"#ed7953\"],[0.7777777777777778,\"#fb9f3a\"],[0.8888888888888888,\"#fdca26\"],[1.0,\"#f0f921\"]]}],\"surface\":[{\"type\":\"surface\",\"colorbar\":{\"outlinewidth\":0,\"ticks\":\"\"},\"colorscale\":[[0.0,\"#0d0887\"],[0.1111111111111111,\"#46039f\"],[0.2222222222222222,\"#7201a8\"],[0.3333333333333333,\"#9c179e\"],[0.4444444444444444,\"#bd3786\"],[0.5555555555555556,\"#d8576b\"],[0.6666666666666666,\"#ed7953\"],[0.7777777777777778,\"#fb9f3a\"],[0.8888888888888888,\"#fdca26\"],[1.0,\"#f0f921\"]]}],\"mesh3d\":[{\"type\":\"mesh3d\",\"colorbar\":{\"outlinewidth\":0,\"ticks\":\"\"}}],\"scatter\":[{\"fillpattern\":{\"fillmode\":\"overlay\",\"size\":10,\"solidity\":0.2},\"type\":\"scatter\"}],\"parcoords\":[{\"type\":\"parcoords\",\"line\":{\"colorbar\":{\"outlinewidth\":0,\"ticks\":\"\"}}}],\"scatterpolargl\":[{\"type\":\"scatterpolargl\",\"marker\":{\"colorbar\":{\"outlinewidth\":0,\"ticks\":\"\"}}}],\"bar\":[{\"error_x\":{\"color\":\"#2a3f5f\"},\"error_y\":{\"color\":\"#2a3f5f\"},\"marker\":{\"line\":{\"color\":\"#E5ECF6\",\"width\":0.5},\"pattern\":{\"fillmode\":\"overlay\",\"size\":10,\"solidity\":0.2}},\"type\":\"bar\"}],\"scattergeo\":[{\"type\":\"scattergeo\",\"marker\":{\"colorbar\":{\"outlinewidth\":0,\"ticks\":\"\"}}}],\"scatterpolar\":[{\"type\":\"scatterpolar\",\"marker\":{\"colorbar\":{\"outlinewidth\":0,\"ticks\":\"\"}}}],\"histogram\":[{\"marker\":{\"pattern\":{\"fillmode\":\"overlay\",\"size\":10,\"solidity\":0.2}},\"type\":\"histogram\"}],\"scattergl\":[{\"type\":\"scattergl\",\"marker\":{\"colorbar\":{\"outlinewidth\":0,\"ticks\":\"\"}}}],\"scatter3d\":[{\"type\":\"scatter3d\",\"line\":{\"colorbar\":{\"outlinewidth\":0,\"ticks\":\"\"}},\"marker\":{\"colorbar\":{\"outlinewidth\":0,\"ticks\":\"\"}}}],\"scattermapbox\":[{\"type\":\"scattermapbox\",\"marker\":{\"colorbar\":{\"outlinewidth\":0,\"ticks\":\"\"}}}],\"scatterternary\":[{\"type\":\"scatterternary\",\"marker\":{\"colorbar\":{\"outlinewidth\":0,\"ticks\":\"\"}}}],\"scattercarpet\":[{\"type\":\"scattercarpet\",\"marker\":{\"colorbar\":{\"outlinewidth\":0,\"ticks\":\"\"}}}],\"carpet\":[{\"aaxis\":{\"endlinecolor\":\"#2a3f5f\",\"gridcolor\":\"white\",\"linecolor\":\"white\",\"minorgridcolor\":\"white\",\"startlinecolor\":\"#2a3f5f\"},\"baxis\":{\"endlinecolor\":\"#2a3f5f\",\"gridcolor\":\"white\",\"linecolor\":\"white\",\"minorgridcolor\":\"white\",\"startlinecolor\":\"#2a3f5f\"},\"type\":\"carpet\"}],\"table\":[{\"cells\":{\"fill\":{\"color\":\"#EBF0F8\"},\"line\":{\"color\":\"white\"}},\"header\":{\"fill\":{\"color\":\"#C8D4E3\"},\"line\":{\"color\":\"white\"}},\"type\":\"table\"}],\"barpolar\":[{\"marker\":{\"line\":{\"color\":\"#E5ECF6\",\"width\":0.5},\"pattern\":{\"fillmode\":\"overlay\",\"size\":10,\"solidity\":0.2}},\"type\":\"barpolar\"}],\"pie\":[{\"automargin\":true,\"type\":\"pie\"}]},\"layout\":{\"autotypenumbers\":\"strict\",\"colorway\":[\"#636efa\",\"#EF553B\",\"#00cc96\",\"#ab63fa\",\"#FFA15A\",\"#19d3f3\",\"#FF6692\",\"#B6E880\",\"#FF97FF\",\"#FECB52\"],\"font\":{\"color\":\"#2a3f5f\"},\"hovermode\":\"closest\",\"hoverlabel\":{\"align\":\"left\"},\"paper_bgcolor\":\"white\",\"plot_bgcolor\":\"#E5ECF6\",\"polar\":{\"bgcolor\":\"#E5ECF6\",\"angularaxis\":{\"gridcolor\":\"white\",\"linecolor\":\"white\",\"ticks\":\"\"},\"radialaxis\":{\"gridcolor\":\"white\",\"linecolor\":\"white\",\"ticks\":\"\"}},\"ternary\":{\"bgcolor\":\"#E5ECF6\",\"aaxis\":{\"gridcolor\":\"white\",\"linecolor\":\"white\",\"ticks\":\"\"},\"baxis\":{\"gridcolor\":\"white\",\"linecolor\":\"white\",\"ticks\":\"\"},\"caxis\":{\"gridcolor\":\"white\",\"linecolor\":\"white\",\"ticks\":\"\"}},\"coloraxis\":{\"colorbar\":{\"outlinewidth\":0,\"ticks\":\"\"}},\"colorscale\":{\"sequential\":[[0.0,\"#0d0887\"],[0.1111111111111111,\"#46039f\"],[0.2222222222222222,\"#7201a8\"],[0.3333333333333333,\"#9c179e\"],[0.4444444444444444,\"#bd3786\"],[0.5555555555555556,\"#d8576b\"],[0.6666666666666666,\"#ed7953\"],[0.7777777777777778,\"#fb9f3a\"],[0.8888888888888888,\"#fdca26\"],[1.0,\"#f0f921\"]],\"sequentialminus\":[[0.0,\"#0d0887\"],[0.1111111111111111,\"#46039f\"],[0.2222222222222222,\"#7201a8\"],[0.3333333333333333,\"#9c179e\"],[0.4444444444444444,\"#bd3786\"],[0.5555555555555556,\"#d8576b\"],[0.6666666666666666,\"#ed7953\"],[0.7777777777777778,\"#fb9f3a\"],[0.8888888888888888,\"#fdca26\"],[1.0,\"#f0f921\"]],\"diverging\":[[0,\"#8e0152\"],[0.1,\"#c51b7d\"],[0.2,\"#de77ae\"],[0.3,\"#f1b6da\"],[0.4,\"#fde0ef\"],[0.5,\"#f7f7f7\"],[0.6,\"#e6f5d0\"],[0.7,\"#b8e186\"],[0.8,\"#7fbc41\"],[0.9,\"#4d9221\"],[1,\"#276419\"]]},\"xaxis\":{\"gridcolor\":\"white\",\"linecolor\":\"white\",\"ticks\":\"\",\"title\":{\"standoff\":15},\"zerolinecolor\":\"white\",\"automargin\":true,\"zerolinewidth\":2},\"yaxis\":{\"gridcolor\":\"white\",\"linecolor\":\"white\",\"ticks\":\"\",\"title\":{\"standoff\":15},\"zerolinecolor\":\"white\",\"automargin\":true,\"zerolinewidth\":2},\"scene\":{\"xaxis\":{\"backgroundcolor\":\"#E5ECF6\",\"gridcolor\":\"white\",\"linecolor\":\"white\",\"showbackground\":true,\"ticks\":\"\",\"zerolinecolor\":\"white\",\"gridwidth\":2},\"yaxis\":{\"backgroundcolor\":\"#E5ECF6\",\"gridcolor\":\"white\",\"linecolor\":\"white\",\"showbackground\":true,\"ticks\":\"\",\"zerolinecolor\":\"white\",\"gridwidth\":2},\"zaxis\":{\"backgroundcolor\":\"#E5ECF6\",\"gridcolor\":\"white\",\"linecolor\":\"white\",\"showbackground\":true,\"ticks\":\"\",\"zerolinecolor\":\"white\",\"gridwidth\":2}},\"shapedefaults\":{\"line\":{\"color\":\"#2a3f5f\"}},\"annotationdefaults\":{\"arrowcolor\":\"#2a3f5f\",\"arrowhead\":0,\"arrowwidth\":1},\"geo\":{\"bgcolor\":\"white\",\"landcolor\":\"#E5ECF6\",\"subunitcolor\":\"white\",\"showland\":true,\"showlakes\":true,\"lakecolor\":\"white\"},\"title\":{\"x\":0.05},\"mapbox\":{\"style\":\"light\"}}},\"xaxis\":{\"anchor\":\"y\",\"domain\":[0.0,1.0],\"title\":{\"text\":\"mes\"},\"categoryorder\":\"array\",\"categoryarray\":[\"Enero\",\"Febrero\",\"Marzo\",\"Abril\",\"Mayo\",\"Junio\",\"Julio\",\"Agosto\",\"Septiembre\",\"Octubre\",\"Noviembre\",\"Diciembre\"]},\"yaxis\":{\"anchor\":\"x\",\"domain\":[0.0,1.0],\"title\":{\"text\":\"Tasa de Delito cada\\u002f100.000 hab.\"}},\"legend\":{\"title\":{\"text\":\"Tipo de Delito\"},\"tracegroupgap\":0},\"title\":{\"text\":\"Streamgraph de Tasas de Delitos en Valdivia\"},\"shapes\":[{\"line\":{\"color\":\"black\",\"dash\":\"dash\",\"width\":2},\"type\":\"line\",\"x0\":\"Marzo\",\"x1\":\"Marzo\",\"xref\":\"x\",\"y0\":0,\"y1\":1,\"yref\":\"paper\"},{\"line\":{\"color\":\"black\",\"dash\":\"dash\",\"width\":2},\"type\":\"line\",\"x0\":\"Junio\",\"x1\":\"Junio\",\"xref\":\"x\",\"y0\":0,\"y1\":1,\"yref\":\"paper\"},{\"line\":{\"color\":\"black\",\"dash\":\"dash\",\"width\":2},\"type\":\"line\",\"x0\":\"Septiembre\",\"x1\":\"Septiembre\",\"xref\":\"x\",\"y0\":0,\"y1\":1,\"yref\":\"paper\"},{\"line\":{\"color\":\"black\",\"dash\":\"dash\",\"width\":2},\"type\":\"line\",\"x0\":\"Diciembre\",\"x1\":\"Diciembre\",\"xref\":\"x\",\"y0\":0,\"y1\":1,\"yref\":\"paper\"}],\"annotations\":[{\"font\":{\"color\":\"black\"},\"showarrow\":false,\"text\":\"Verano\",\"x\":1.5,\"y\":-2.5},{\"font\":{\"color\":\"black\"},\"showarrow\":false,\"text\":\"Oto\\u00f1o\",\"x\":4.5,\"y\":-2.5},{\"font\":{\"color\":\"black\"},\"showarrow\":false,\"text\":\"Invierno\",\"x\":7.5,\"y\":-2.5},{\"font\":{\"color\":\"black\"},\"showarrow\":false,\"text\":\"Primavera\",\"x\":10.5,\"y\":-2.5}]},                        {\"responsive\": true}                    ).then(function(){\n",
       "                            \n",
       "var gd = document.getElementById('77c5b4e1-ab83-46e4-9428-e2ac45e29581');\n",
       "var x = new MutationObserver(function (mutations, observer) {{\n",
       "        var display = window.getComputedStyle(gd).display;\n",
       "        if (!display || display === 'none') {{\n",
       "            console.log([gd, 'removed!']);\n",
       "            Plotly.purge(gd);\n",
       "            observer.disconnect();\n",
       "        }}\n",
       "}});\n",
       "\n",
       "// Listen for the removal of the full notebook cells\n",
       "var notebookContainer = gd.closest('#notebook-container');\n",
       "if (notebookContainer) {{\n",
       "    x.observe(notebookContainer, {childList: true});\n",
       "}}\n",
       "\n",
       "// Listen for the clearing of the current output cell\n",
       "var outputEl = gd.closest('.output');\n",
       "if (outputEl) {{\n",
       "    x.observe(outputEl, {childList: true});\n",
       "}}\n",
       "\n",
       "                        })                };                });            </script>        </div>"
      ]
     },
     "metadata": {},
     "output_type": "display_data"
    }
   ],
   "source": [
    "levantarStream2(df_stream, orden_meses, \"Valdivia\", colores_delitos)"
   ]
  },
  {
   "cell_type": "code",
   "execution_count": 21,
   "id": "695ad288-6ecf-4663-b222-8843a9da4da0",
   "metadata": {},
   "outputs": [],
   "source": [
    "import plotly.express as px\n",
    "import plotly.graph_objects as go\n",
    "# Definir el orden de los meses\n",
    "orden_meses = [\"Enero\", \"Febrero\", \"Marzo\", \"Abril\", \"Mayo\", \"Junio\", \"Julio\", \"Agosto\", \"Septiembre\", \"Octubre\", \"Noviembre\", \"Diciembre\"]"
   ]
  },
  {
   "cell_type": "code",
   "execution_count": 37,
   "id": "c6fcf1c9-2518-4ddc-b428-7226b5d603e5",
   "metadata": {},
   "outputs": [
    {
     "data": {
      "application/vnd.plotly.v1+json": {
       "config": {
        "plotlyServerURL": "https://plot.ly"
       },
       "data": [
        {
         "fillpattern": {
          "shape": ""
         },
         "hovertemplate": "Tipo de Delito=Robo con Violencia o Intimidación<br>mes=%{x}<br>Tasa de Delito cada/100.000 hab.=%{y}<extra></extra>",
         "legendgroup": "Robo con Violencia o Intimidación",
         "line": {
          "color": "#1f77b4"
         },
         "marker": {
          "symbol": "circle"
         },
         "mode": "lines",
         "name": "Robo con Violencia o Intimidación",
         "orientation": "v",
         "showlegend": true,
         "stackgroup": "1",
         "type": "scatter",
         "x": [
          "Abril",
          "Agosto",
          "Diciembre",
          "Enero",
          "Febrero",
          "Julio",
          "Junio",
          "Marzo",
          "Mayo",
          "Noviembre",
          "Octubre",
          "Septiembre"
         ],
         "xaxis": "x",
         "y": [
          20.6,
          10.6,
          18.9,
          14.5,
          6.1,
          21.7,
          16.2,
          15,
          19.5,
          15,
          16.7,
          17.8
         ],
         "yaxis": "y"
        },
        {
         "fillpattern": {
          "shape": ""
         },
         "hovertemplate": "Tipo de Delito=Robo Lugar Habitado<br>mes=%{x}<br>Tasa de Delito cada/100.000 hab.=%{y}<extra></extra>",
         "legendgroup": "Robo Lugar Habitado",
         "line": {
          "color": "#2ca02c"
         },
         "marker": {
          "symbol": "circle"
         },
         "mode": "lines",
         "name": "Robo Lugar Habitado",
         "orientation": "v",
         "showlegend": true,
         "stackgroup": "1",
         "type": "scatter",
         "x": [
          "Abril",
          "Agosto",
          "Diciembre",
          "Enero",
          "Febrero",
          "Julio",
          "Junio",
          "Marzo",
          "Mayo",
          "Noviembre",
          "Octubre",
          "Septiembre"
         ],
         "xaxis": "x",
         "y": [
          31.2,
          31.7,
          29.5,
          49.6,
          37.9,
          32.9,
          31.7,
          32.3,
          41.2,
          35.6,
          35.6,
          41.2
         ],
         "yaxis": "y"
        },
        {
         "fillpattern": {
          "shape": ""
         },
         "hovertemplate": "Tipo de Delito=Robo Lugar No Habitado<br>mes=%{x}<br>Tasa de Delito cada/100.000 hab.=%{y}<extra></extra>",
         "legendgroup": "Robo Lugar No Habitado",
         "line": {
          "color": "#d62728"
         },
         "marker": {
          "symbol": "circle"
         },
         "mode": "lines",
         "name": "Robo Lugar No Habitado",
         "orientation": "v",
         "showlegend": true,
         "stackgroup": "1",
         "type": "scatter",
         "x": [
          "Abril",
          "Agosto",
          "Diciembre",
          "Enero",
          "Febrero",
          "Julio",
          "Junio",
          "Marzo",
          "Mayo",
          "Noviembre",
          "Octubre",
          "Septiembre"
         ],
         "xaxis": "x",
         "y": [
          29.5,
          36.2,
          36.8,
          25.1,
          20,
          31.7,
          26.2,
          25.6,
          23.4,
          32.3,
          40.1,
          31.7
         ],
         "yaxis": "y"
        },
        {
         "fillpattern": {
          "shape": ""
         },
         "hovertemplate": "Tipo de Delito=Robo de Vehículo<br>mes=%{x}<br>Tasa de Delito cada/100.000 hab.=%{y}<extra></extra>",
         "legendgroup": "Robo de Vehículo",
         "line": {
          "color": "#9467bd"
         },
         "marker": {
          "symbol": "circle"
         },
         "mode": "lines",
         "name": "Robo de Vehículo",
         "orientation": "v",
         "showlegend": true,
         "stackgroup": "1",
         "type": "scatter",
         "x": [
          "Abril",
          "Agosto",
          "Diciembre",
          "Enero",
          "Febrero",
          "Julio",
          "Junio",
          "Marzo",
          "Mayo",
          "Noviembre",
          "Octubre",
          "Septiembre"
         ],
         "xaxis": "x",
         "y": [
          3.9,
          2.8,
          8.4,
          5.6,
          2.8,
          6.7,
          3.9,
          2.2,
          8.9,
          3.9,
          7.2,
          7.2
         ],
         "yaxis": "y"
        },
        {
         "fillpattern": {
          "shape": ""
         },
         "hovertemplate": "Tipo de Delito=Robo Accesorio Vehículo<br>mes=%{x}<br>Tasa de Delito cada/100.000 hab.=%{y}<extra></extra>",
         "legendgroup": "Robo Accesorio Vehículo",
         "line": {
          "color": "#8c564b"
         },
         "marker": {
          "symbol": "circle"
         },
         "mode": "lines",
         "name": "Robo Accesorio Vehículo",
         "orientation": "v",
         "showlegend": true,
         "stackgroup": "1",
         "type": "scatter",
         "x": [
          "Abril",
          "Agosto",
          "Diciembre",
          "Enero",
          "Febrero",
          "Julio",
          "Junio",
          "Marzo",
          "Mayo",
          "Noviembre",
          "Octubre",
          "Septiembre"
         ],
         "xaxis": "x",
         "y": [
          22.8,
          31.2,
          34,
          28.4,
          26.2,
          29,
          40.7,
          23.4,
          29,
          27.8,
          25.1,
          38.4
         ],
         "yaxis": "y"
        },
        {
         "fillpattern": {
          "shape": ""
         },
         "hovertemplate": "Tipo de Delito=Otros Robos con Fuerza<br>mes=%{x}<br>Tasa de Delito cada/100.000 hab.=%{y}<extra></extra>",
         "legendgroup": "Otros Robos con Fuerza",
         "line": {
          "color": "#e377c2"
         },
         "marker": {
          "symbol": "circle"
         },
         "mode": "lines",
         "name": "Otros Robos con Fuerza",
         "orientation": "v",
         "showlegend": true,
         "stackgroup": "1",
         "type": "scatter",
         "x": [
          "Abril",
          "Agosto",
          "Diciembre",
          "Enero",
          "Febrero",
          "Julio",
          "Junio",
          "Marzo",
          "Mayo",
          "Noviembre",
          "Octubre",
          "Septiembre"
         ],
         "xaxis": "x",
         "y": [
          3.9,
          7.2,
          2.8,
          4.5,
          1.7,
          3.3,
          5,
          10,
          7.2,
          7.2,
          10.6,
          5
         ],
         "yaxis": "y"
        },
        {
         "fillpattern": {
          "shape": ""
         },
         "hovertemplate": "Tipo de Delito=Hurtos<br>mes=%{x}<br>Tasa de Delito cada/100.000 hab.=%{y}<extra></extra>",
         "legendgroup": "Hurtos",
         "line": {
          "color": "#7f7f7f"
         },
         "marker": {
          "symbol": "circle"
         },
         "mode": "lines",
         "name": "Hurtos",
         "orientation": "v",
         "showlegend": true,
         "stackgroup": "1",
         "type": "scatter",
         "x": [
          "Abril",
          "Agosto",
          "Diciembre",
          "Enero",
          "Febrero",
          "Julio",
          "Junio",
          "Marzo",
          "Mayo",
          "Noviembre",
          "Octubre",
          "Septiembre"
         ],
         "xaxis": "x",
         "y": [
          91.9,
          86.3,
          94.7,
          78,
          79.1,
          76.9,
          83,
          93,
          99.1,
          104.7,
          100.2,
          86.9
         ],
         "yaxis": "y"
        },
        {
         "fillpattern": {
          "shape": ""
         },
         "hovertemplate": "Tipo de Delito=Lesiones<br>mes=%{x}<br>Tasa de Delito cada/100.000 hab.=%{y}<extra></extra>",
         "legendgroup": "Lesiones",
         "line": {
          "color": "#bcbd22"
         },
         "marker": {
          "symbol": "circle"
         },
         "mode": "lines",
         "name": "Lesiones",
         "orientation": "v",
         "showlegend": true,
         "stackgroup": "1",
         "type": "scatter",
         "x": [
          "Abril",
          "Agosto",
          "Diciembre",
          "Enero",
          "Febrero",
          "Julio",
          "Junio",
          "Marzo",
          "Mayo",
          "Noviembre",
          "Octubre",
          "Septiembre"
         ],
         "xaxis": "x",
         "y": [
          41.8,
          32.3,
          36.8,
          32.3,
          26.2,
          21.2,
          34,
          41.8,
          34,
          50.1,
          32.3,
          29.5
         ],
         "yaxis": "y"
        },
        {
         "fillpattern": {
          "shape": ""
         },
         "hovertemplate": "Tipo de Delito=Homicidios<br>mes=%{x}<br>Tasa de Delito cada/100.000 hab.=%{y}<extra></extra>",
         "legendgroup": "Homicidios",
         "line": {
          "color": "#17becf"
         },
         "marker": {
          "symbol": "circle"
         },
         "mode": "lines",
         "name": "Homicidios",
         "orientation": "v",
         "showlegend": true,
         "stackgroup": "1",
         "type": "scatter",
         "x": [
          "Abril",
          "Agosto",
          "Diciembre",
          "Enero",
          "Febrero",
          "Julio",
          "Junio",
          "Marzo",
          "Mayo",
          "Noviembre",
          "Octubre",
          "Septiembre"
         ],
         "xaxis": "x",
         "y": [
          0,
          0,
          0,
          0.6,
          0,
          0,
          1.1,
          0,
          0,
          1.7,
          0,
          0
         ],
         "yaxis": "y"
        },
        {
         "fillpattern": {
          "shape": ""
         },
         "hovertemplate": "Tipo de Delito=Violación<br>mes=%{x}<br>Tasa de Delito cada/100.000 hab.=%{y}<extra></extra>",
         "legendgroup": "Violación",
         "line": {
          "color": "#ff9896"
         },
         "marker": {
          "symbol": "circle"
         },
         "mode": "lines",
         "name": "Violación",
         "orientation": "v",
         "showlegend": true,
         "stackgroup": "1",
         "type": "scatter",
         "x": [
          "Abril",
          "Agosto",
          "Diciembre",
          "Enero",
          "Febrero",
          "Julio",
          "Junio",
          "Marzo",
          "Mayo",
          "Noviembre",
          "Octubre",
          "Septiembre"
         ],
         "xaxis": "x",
         "y": [
          4.5,
          2.2,
          4.5,
          5.6,
          2.8,
          0.6,
          5.6,
          2.2,
          5,
          3.3,
          1.1,
          5
         ],
         "yaxis": "y"
        },
        {
         "fillpattern": {
          "shape": ""
         },
         "hovertemplate": "Tipo de Delito=Robo por Sorpresa<br>mes=%{x}<br>Tasa de Delito cada/100.000 hab.=%{y}<extra></extra>",
         "legendgroup": "Robo por Sorpresa",
         "line": {
          "color": "#ff7f0e"
         },
         "marker": {
          "symbol": "circle"
         },
         "mode": "lines",
         "name": "Robo por Sorpresa",
         "orientation": "v",
         "showlegend": true,
         "stackgroup": "1",
         "type": "scatter",
         "x": [
          "Abril",
          "Agosto",
          "Diciembre",
          "Enero",
          "Febrero",
          "Julio",
          "Junio",
          "Marzo",
          "Mayo",
          "Noviembre",
          "Octubre",
          "Septiembre"
         ],
         "xaxis": "x",
         "y": [
          8.9,
          3.9,
          6.7,
          6.1,
          6.7,
          4.5,
          7.8,
          6.7,
          5,
          9.5,
          7.2,
          5.6
         ],
         "yaxis": "y"
        }
       ],
       "layout": {
        "annotations": [
         {
          "font": {
           "color": "black"
          },
          "showarrow": false,
          "text": "Verano",
          "x": 1.5,
          "y": -2.5
         },
         {
          "font": {
           "color": "black"
          },
          "showarrow": false,
          "text": "Otoño",
          "x": 4.5,
          "y": -2.5
         },
         {
          "font": {
           "color": "black"
          },
          "showarrow": false,
          "text": "Invierno",
          "x": 7.5,
          "y": -2.5
         },
         {
          "font": {
           "color": "black"
          },
          "showarrow": false,
          "text": "Primavera",
          "x": 10.5,
          "y": -2.5
         }
        ],
        "autosize": true,
        "legend": {
         "title": {
          "text": "Tipo de Delito"
         },
         "tracegroupgap": 0
        },
        "shapes": [
         {
          "line": {
           "color": "black",
           "dash": "dash",
           "width": 2
          },
          "type": "line",
          "x0": "Marzo",
          "x1": "Marzo",
          "xref": "x",
          "y0": 0,
          "y1": 1,
          "yref": "paper"
         },
         {
          "line": {
           "color": "black",
           "dash": "dash",
           "width": 2
          },
          "type": "line",
          "x0": "Junio",
          "x1": "Junio",
          "xref": "x",
          "y0": 0,
          "y1": 1,
          "yref": "paper"
         },
         {
          "line": {
           "color": "black",
           "dash": "dash",
           "width": 2
          },
          "type": "line",
          "x0": "Septiembre",
          "x1": "Septiembre",
          "xref": "x",
          "y0": 0,
          "y1": 1,
          "yref": "paper"
         },
         {
          "line": {
           "color": "black",
           "dash": "dash",
           "width": 2
          },
          "type": "line",
          "x0": "Diciembre",
          "x1": "Diciembre",
          "xref": "x",
          "y0": 0,
          "y1": 1,
          "yref": "paper"
         }
        ],
        "template": {
         "data": {
          "bar": [
           {
            "error_x": {
             "color": "#2a3f5f"
            },
            "error_y": {
             "color": "#2a3f5f"
            },
            "marker": {
             "line": {
              "color": "#E5ECF6",
              "width": 0.5
             },
             "pattern": {
              "fillmode": "overlay",
              "size": 10,
              "solidity": 0.2
             }
            },
            "type": "bar"
           }
          ],
          "barpolar": [
           {
            "marker": {
             "line": {
              "color": "#E5ECF6",
              "width": 0.5
             },
             "pattern": {
              "fillmode": "overlay",
              "size": 10,
              "solidity": 0.2
             }
            },
            "type": "barpolar"
           }
          ],
          "carpet": [
           {
            "aaxis": {
             "endlinecolor": "#2a3f5f",
             "gridcolor": "white",
             "linecolor": "white",
             "minorgridcolor": "white",
             "startlinecolor": "#2a3f5f"
            },
            "baxis": {
             "endlinecolor": "#2a3f5f",
             "gridcolor": "white",
             "linecolor": "white",
             "minorgridcolor": "white",
             "startlinecolor": "#2a3f5f"
            },
            "type": "carpet"
           }
          ],
          "choropleth": [
           {
            "colorbar": {
             "outlinewidth": 0,
             "ticks": ""
            },
            "type": "choropleth"
           }
          ],
          "contour": [
           {
            "colorbar": {
             "outlinewidth": 0,
             "ticks": ""
            },
            "colorscale": [
             [
              0,
              "#0d0887"
             ],
             [
              0.1111111111111111,
              "#46039f"
             ],
             [
              0.2222222222222222,
              "#7201a8"
             ],
             [
              0.3333333333333333,
              "#9c179e"
             ],
             [
              0.4444444444444444,
              "#bd3786"
             ],
             [
              0.5555555555555556,
              "#d8576b"
             ],
             [
              0.6666666666666666,
              "#ed7953"
             ],
             [
              0.7777777777777778,
              "#fb9f3a"
             ],
             [
              0.8888888888888888,
              "#fdca26"
             ],
             [
              1,
              "#f0f921"
             ]
            ],
            "type": "contour"
           }
          ],
          "contourcarpet": [
           {
            "colorbar": {
             "outlinewidth": 0,
             "ticks": ""
            },
            "type": "contourcarpet"
           }
          ],
          "heatmap": [
           {
            "colorbar": {
             "outlinewidth": 0,
             "ticks": ""
            },
            "colorscale": [
             [
              0,
              "#0d0887"
             ],
             [
              0.1111111111111111,
              "#46039f"
             ],
             [
              0.2222222222222222,
              "#7201a8"
             ],
             [
              0.3333333333333333,
              "#9c179e"
             ],
             [
              0.4444444444444444,
              "#bd3786"
             ],
             [
              0.5555555555555556,
              "#d8576b"
             ],
             [
              0.6666666666666666,
              "#ed7953"
             ],
             [
              0.7777777777777778,
              "#fb9f3a"
             ],
             [
              0.8888888888888888,
              "#fdca26"
             ],
             [
              1,
              "#f0f921"
             ]
            ],
            "type": "heatmap"
           }
          ],
          "heatmapgl": [
           {
            "colorbar": {
             "outlinewidth": 0,
             "ticks": ""
            },
            "colorscale": [
             [
              0,
              "#0d0887"
             ],
             [
              0.1111111111111111,
              "#46039f"
             ],
             [
              0.2222222222222222,
              "#7201a8"
             ],
             [
              0.3333333333333333,
              "#9c179e"
             ],
             [
              0.4444444444444444,
              "#bd3786"
             ],
             [
              0.5555555555555556,
              "#d8576b"
             ],
             [
              0.6666666666666666,
              "#ed7953"
             ],
             [
              0.7777777777777778,
              "#fb9f3a"
             ],
             [
              0.8888888888888888,
              "#fdca26"
             ],
             [
              1,
              "#f0f921"
             ]
            ],
            "type": "heatmapgl"
           }
          ],
          "histogram": [
           {
            "marker": {
             "pattern": {
              "fillmode": "overlay",
              "size": 10,
              "solidity": 0.2
             }
            },
            "type": "histogram"
           }
          ],
          "histogram2d": [
           {
            "colorbar": {
             "outlinewidth": 0,
             "ticks": ""
            },
            "colorscale": [
             [
              0,
              "#0d0887"
             ],
             [
              0.1111111111111111,
              "#46039f"
             ],
             [
              0.2222222222222222,
              "#7201a8"
             ],
             [
              0.3333333333333333,
              "#9c179e"
             ],
             [
              0.4444444444444444,
              "#bd3786"
             ],
             [
              0.5555555555555556,
              "#d8576b"
             ],
             [
              0.6666666666666666,
              "#ed7953"
             ],
             [
              0.7777777777777778,
              "#fb9f3a"
             ],
             [
              0.8888888888888888,
              "#fdca26"
             ],
             [
              1,
              "#f0f921"
             ]
            ],
            "type": "histogram2d"
           }
          ],
          "histogram2dcontour": [
           {
            "colorbar": {
             "outlinewidth": 0,
             "ticks": ""
            },
            "colorscale": [
             [
              0,
              "#0d0887"
             ],
             [
              0.1111111111111111,
              "#46039f"
             ],
             [
              0.2222222222222222,
              "#7201a8"
             ],
             [
              0.3333333333333333,
              "#9c179e"
             ],
             [
              0.4444444444444444,
              "#bd3786"
             ],
             [
              0.5555555555555556,
              "#d8576b"
             ],
             [
              0.6666666666666666,
              "#ed7953"
             ],
             [
              0.7777777777777778,
              "#fb9f3a"
             ],
             [
              0.8888888888888888,
              "#fdca26"
             ],
             [
              1,
              "#f0f921"
             ]
            ],
            "type": "histogram2dcontour"
           }
          ],
          "mesh3d": [
           {
            "colorbar": {
             "outlinewidth": 0,
             "ticks": ""
            },
            "type": "mesh3d"
           }
          ],
          "parcoords": [
           {
            "line": {
             "colorbar": {
              "outlinewidth": 0,
              "ticks": ""
             }
            },
            "type": "parcoords"
           }
          ],
          "pie": [
           {
            "automargin": true,
            "type": "pie"
           }
          ],
          "scatter": [
           {
            "fillpattern": {
             "fillmode": "overlay",
             "size": 10,
             "solidity": 0.2
            },
            "type": "scatter"
           }
          ],
          "scatter3d": [
           {
            "line": {
             "colorbar": {
              "outlinewidth": 0,
              "ticks": ""
             }
            },
            "marker": {
             "colorbar": {
              "outlinewidth": 0,
              "ticks": ""
             }
            },
            "type": "scatter3d"
           }
          ],
          "scattercarpet": [
           {
            "marker": {
             "colorbar": {
              "outlinewidth": 0,
              "ticks": ""
             }
            },
            "type": "scattercarpet"
           }
          ],
          "scattergeo": [
           {
            "marker": {
             "colorbar": {
              "outlinewidth": 0,
              "ticks": ""
             }
            },
            "type": "scattergeo"
           }
          ],
          "scattergl": [
           {
            "marker": {
             "colorbar": {
              "outlinewidth": 0,
              "ticks": ""
             }
            },
            "type": "scattergl"
           }
          ],
          "scattermapbox": [
           {
            "marker": {
             "colorbar": {
              "outlinewidth": 0,
              "ticks": ""
             }
            },
            "type": "scattermapbox"
           }
          ],
          "scatterpolar": [
           {
            "marker": {
             "colorbar": {
              "outlinewidth": 0,
              "ticks": ""
             }
            },
            "type": "scatterpolar"
           }
          ],
          "scatterpolargl": [
           {
            "marker": {
             "colorbar": {
              "outlinewidth": 0,
              "ticks": ""
             }
            },
            "type": "scatterpolargl"
           }
          ],
          "scatterternary": [
           {
            "marker": {
             "colorbar": {
              "outlinewidth": 0,
              "ticks": ""
             }
            },
            "type": "scatterternary"
           }
          ],
          "surface": [
           {
            "colorbar": {
             "outlinewidth": 0,
             "ticks": ""
            },
            "colorscale": [
             [
              0,
              "#0d0887"
             ],
             [
              0.1111111111111111,
              "#46039f"
             ],
             [
              0.2222222222222222,
              "#7201a8"
             ],
             [
              0.3333333333333333,
              "#9c179e"
             ],
             [
              0.4444444444444444,
              "#bd3786"
             ],
             [
              0.5555555555555556,
              "#d8576b"
             ],
             [
              0.6666666666666666,
              "#ed7953"
             ],
             [
              0.7777777777777778,
              "#fb9f3a"
             ],
             [
              0.8888888888888888,
              "#fdca26"
             ],
             [
              1,
              "#f0f921"
             ]
            ],
            "type": "surface"
           }
          ],
          "table": [
           {
            "cells": {
             "fill": {
              "color": "#EBF0F8"
             },
             "line": {
              "color": "white"
             }
            },
            "header": {
             "fill": {
              "color": "#C8D4E3"
             },
             "line": {
              "color": "white"
             }
            },
            "type": "table"
           }
          ]
         },
         "layout": {
          "annotationdefaults": {
           "arrowcolor": "#2a3f5f",
           "arrowhead": 0,
           "arrowwidth": 1
          },
          "autotypenumbers": "strict",
          "coloraxis": {
           "colorbar": {
            "outlinewidth": 0,
            "ticks": ""
           }
          },
          "colorscale": {
           "diverging": [
            [
             0,
             "#8e0152"
            ],
            [
             0.1,
             "#c51b7d"
            ],
            [
             0.2,
             "#de77ae"
            ],
            [
             0.3,
             "#f1b6da"
            ],
            [
             0.4,
             "#fde0ef"
            ],
            [
             0.5,
             "#f7f7f7"
            ],
            [
             0.6,
             "#e6f5d0"
            ],
            [
             0.7,
             "#b8e186"
            ],
            [
             0.8,
             "#7fbc41"
            ],
            [
             0.9,
             "#4d9221"
            ],
            [
             1,
             "#276419"
            ]
           ],
           "sequential": [
            [
             0,
             "#0d0887"
            ],
            [
             0.1111111111111111,
             "#46039f"
            ],
            [
             0.2222222222222222,
             "#7201a8"
            ],
            [
             0.3333333333333333,
             "#9c179e"
            ],
            [
             0.4444444444444444,
             "#bd3786"
            ],
            [
             0.5555555555555556,
             "#d8576b"
            ],
            [
             0.6666666666666666,
             "#ed7953"
            ],
            [
             0.7777777777777778,
             "#fb9f3a"
            ],
            [
             0.8888888888888888,
             "#fdca26"
            ],
            [
             1,
             "#f0f921"
            ]
           ],
           "sequentialminus": [
            [
             0,
             "#0d0887"
            ],
            [
             0.1111111111111111,
             "#46039f"
            ],
            [
             0.2222222222222222,
             "#7201a8"
            ],
            [
             0.3333333333333333,
             "#9c179e"
            ],
            [
             0.4444444444444444,
             "#bd3786"
            ],
            [
             0.5555555555555556,
             "#d8576b"
            ],
            [
             0.6666666666666666,
             "#ed7953"
            ],
            [
             0.7777777777777778,
             "#fb9f3a"
            ],
            [
             0.8888888888888888,
             "#fdca26"
            ],
            [
             1,
             "#f0f921"
            ]
           ]
          },
          "colorway": [
           "#636efa",
           "#EF553B",
           "#00cc96",
           "#ab63fa",
           "#FFA15A",
           "#19d3f3",
           "#FF6692",
           "#B6E880",
           "#FF97FF",
           "#FECB52"
          ],
          "font": {
           "color": "#2a3f5f"
          },
          "geo": {
           "bgcolor": "white",
           "lakecolor": "white",
           "landcolor": "#E5ECF6",
           "showlakes": true,
           "showland": true,
           "subunitcolor": "white"
          },
          "hoverlabel": {
           "align": "left"
          },
          "hovermode": "closest",
          "mapbox": {
           "style": "light"
          },
          "paper_bgcolor": "white",
          "plot_bgcolor": "#E5ECF6",
          "polar": {
           "angularaxis": {
            "gridcolor": "white",
            "linecolor": "white",
            "ticks": ""
           },
           "bgcolor": "#E5ECF6",
           "radialaxis": {
            "gridcolor": "white",
            "linecolor": "white",
            "ticks": ""
           }
          },
          "scene": {
           "xaxis": {
            "backgroundcolor": "#E5ECF6",
            "gridcolor": "white",
            "gridwidth": 2,
            "linecolor": "white",
            "showbackground": true,
            "ticks": "",
            "zerolinecolor": "white"
           },
           "yaxis": {
            "backgroundcolor": "#E5ECF6",
            "gridcolor": "white",
            "gridwidth": 2,
            "linecolor": "white",
            "showbackground": true,
            "ticks": "",
            "zerolinecolor": "white"
           },
           "zaxis": {
            "backgroundcolor": "#E5ECF6",
            "gridcolor": "white",
            "gridwidth": 2,
            "linecolor": "white",
            "showbackground": true,
            "ticks": "",
            "zerolinecolor": "white"
           }
          },
          "shapedefaults": {
           "line": {
            "color": "#2a3f5f"
           }
          },
          "ternary": {
           "aaxis": {
            "gridcolor": "white",
            "linecolor": "white",
            "ticks": ""
           },
           "baxis": {
            "gridcolor": "white",
            "linecolor": "white",
            "ticks": ""
           },
           "bgcolor": "#E5ECF6",
           "caxis": {
            "gridcolor": "white",
            "linecolor": "white",
            "ticks": ""
           }
          },
          "title": {
           "x": 0.05
          },
          "xaxis": {
           "automargin": true,
           "gridcolor": "white",
           "linecolor": "white",
           "ticks": "",
           "title": {
            "standoff": 15
           },
           "zerolinecolor": "white",
           "zerolinewidth": 2
          },
          "yaxis": {
           "automargin": true,
           "gridcolor": "white",
           "linecolor": "white",
           "ticks": "",
           "title": {
            "standoff": 15
           },
           "zerolinecolor": "white",
           "zerolinewidth": 2
          }
         }
        },
        "title": {
         "text": "Streamgraph de Tasas de Delitos en Valdivia"
        },
        "xaxis": {
         "anchor": "y",
         "autorange": true,
         "categoryarray": [
          "Enero",
          "Febrero",
          "Marzo",
          "Abril",
          "Mayo",
          "Junio",
          "Julio",
          "Agosto",
          "Septiembre",
          "Octubre",
          "Noviembre",
          "Diciembre"
         ],
         "categoryorder": "array",
         "domain": [
          0,
          1
         ],
         "range": [
          0,
          11.014745308310992
         ],
         "title": {
          "text": "mes"
         },
         "type": "category"
        },
        "yaxis": {
         "anchor": "x",
         "autorange": true,
         "domain": [
          0,
          1
         ],
         "range": [
          -19.77058823529412,
          307.46160990712076
         ],
         "title": {
          "text": "Tasa de Delito cada/100.000 hab."
         },
         "type": "linear"
        }
       }
      },
      "image/png": "[encoded data removed]",
      "text/html": [
       "<div>                            <div id=\"ca444e38-a6ff-4a65-b9b5-5ccfbfbb08b2\" class=\"plotly-graph-div\" style=\"height:525px; width:100%;\"></div>            <script type=\"text/javascript\">                require([\"plotly\"], function(Plotly) {                    window.PLOTLYENV=window.PLOTLYENV || {};                                    if (document.getElementById(\"ca444e38-a6ff-4a65-b9b5-5ccfbfbb08b2\")) {                    Plotly.newPlot(                        \"ca444e38-a6ff-4a65-b9b5-5ccfbfbb08b2\",                        [{\"fillpattern\":{\"shape\":\"\"},\"hovertemplate\":\"Tipo de Delito=Robo con Violencia o Intimidaci\\u00f3n\\u003cbr\\u003emes=%{x}\\u003cbr\\u003eTasa de Delito cada\\u002f100.000 hab.=%{y}\\u003cextra\\u003e\\u003c\\u002fextra\\u003e\",\"legendgroup\":\"Robo con Violencia o Intimidaci\\u00f3n\",\"line\":{\"color\":\"#1f77b4\"},\"marker\":{\"symbol\":\"circle\"},\"mode\":\"lines\",\"name\":\"Robo con Violencia o Intimidaci\\u00f3n\",\"orientation\":\"v\",\"showlegend\":true,\"stackgroup\":\"1\",\"x\":[\"Abril\",\"Agosto\",\"Diciembre\",\"Enero\",\"Febrero\",\"Julio\",\"Junio\",\"Marzo\",\"Mayo\",\"Noviembre\",\"Octubre\",\"Septiembre\"],\"xaxis\":\"x\",\"y\":[20.6,10.6,18.9,14.5,6.1,21.7,16.2,15.0,19.5,15.0,16.7,17.8],\"yaxis\":\"y\",\"type\":\"scatter\"},{\"fillpattern\":{\"shape\":\"\"},\"hovertemplate\":\"Tipo de Delito=Robo Lugar Habitado\\u003cbr\\u003emes=%{x}\\u003cbr\\u003eTasa de Delito cada\\u002f100.000 hab.=%{y}\\u003cextra\\u003e\\u003c\\u002fextra\\u003e\",\"legendgroup\":\"Robo Lugar Habitado\",\"line\":{\"color\":\"#2ca02c\"},\"marker\":{\"symbol\":\"circle\"},\"mode\":\"lines\",\"name\":\"Robo Lugar Habitado\",\"orientation\":\"v\",\"showlegend\":true,\"stackgroup\":\"1\",\"x\":[\"Abril\",\"Agosto\",\"Diciembre\",\"Enero\",\"Febrero\",\"Julio\",\"Junio\",\"Marzo\",\"Mayo\",\"Noviembre\",\"Octubre\",\"Septiembre\"],\"xaxis\":\"x\",\"y\":[31.2,31.7,29.5,49.6,37.9,32.9,31.7,32.3,41.2,35.6,35.6,41.2],\"yaxis\":\"y\",\"type\":\"scatter\"},{\"fillpattern\":{\"shape\":\"\"},\"hovertemplate\":\"Tipo de Delito=Robo Lugar No Habitado\\u003cbr\\u003emes=%{x}\\u003cbr\\u003eTasa de Delito cada\\u002f100.000 hab.=%{y}\\u003cextra\\u003e\\u003c\\u002fextra\\u003e\",\"legendgroup\":\"Robo Lugar No Habitado\",\"line\":{\"color\":\"#d62728\"},\"marker\":{\"symbol\":\"circle\"},\"mode\":\"lines\",\"name\":\"Robo Lugar No Habitado\",\"orientation\":\"v\",\"showlegend\":true,\"stackgroup\":\"1\",\"x\":[\"Abril\",\"Agosto\",\"Diciembre\",\"Enero\",\"Febrero\",\"Julio\",\"Junio\",\"Marzo\",\"Mayo\",\"Noviembre\",\"Octubre\",\"Septiembre\"],\"xaxis\":\"x\",\"y\":[29.5,36.2,36.8,25.1,20.0,31.7,26.2,25.6,23.4,32.3,40.1,31.7],\"yaxis\":\"y\",\"type\":\"scatter\"},{\"fillpattern\":{\"shape\":\"\"},\"hovertemplate\":\"Tipo de Delito=Robo de Veh\\u00edculo\\u003cbr\\u003emes=%{x}\\u003cbr\\u003eTasa de Delito cada\\u002f100.000 hab.=%{y}\\u003cextra\\u003e\\u003c\\u002fextra\\u003e\",\"legendgroup\":\"Robo de Veh\\u00edculo\",\"line\":{\"color\":\"#9467bd\"},\"marker\":{\"symbol\":\"circle\"},\"mode\":\"lines\",\"name\":\"Robo de Veh\\u00edculo\",\"orientation\":\"v\",\"showlegend\":true,\"stackgroup\":\"1\",\"x\":[\"Abril\",\"Agosto\",\"Diciembre\",\"Enero\",\"Febrero\",\"Julio\",\"Junio\",\"Marzo\",\"Mayo\",\"Noviembre\",\"Octubre\",\"Septiembre\"],\"xaxis\":\"x\",\"y\":[3.9,2.8,8.4,5.6,2.8,6.7,3.9,2.2,8.9,3.9,7.2,7.2],\"yaxis\":\"y\",\"type\":\"scatter\"},{\"fillpattern\":{\"shape\":\"\"},\"hovertemplate\":\"Tipo de Delito=Robo Accesorio Veh\\u00edculo\\u003cbr\\u003emes=%{x}\\u003cbr\\u003eTasa de Delito cada\\u002f100.000 hab.=%{y}\\u003cextra\\u003e\\u003c\\u002fextra\\u003e\",\"legendgroup\":\"Robo Accesorio Veh\\u00edculo\",\"line\":{\"color\":\"#8c564b\"},\"marker\":{\"symbol\":\"circle\"},\"mode\":\"lines\",\"name\":\"Robo Accesorio Veh\\u00edculo\",\"orientation\":\"v\",\"showlegend\":true,\"stackgroup\":\"1\",\"x\":[\"Abril\",\"Agosto\",\"Diciembre\",\"Enero\",\"Febrero\",\"Julio\",\"Junio\",\"Marzo\",\"Mayo\",\"Noviembre\",\"Octubre\",\"Septiembre\"],\"xaxis\":\"x\",\"y\":[22.8,31.2,34.0,28.4,26.2,29.0,40.7,23.4,29.0,27.8,25.1,38.4],\"yaxis\":\"y\",\"type\":\"scatter\"},{\"fillpattern\":{\"shape\":\"\"},\"hovertemplate\":\"Tipo de Delito=Otros Robos con Fuerza\\u003cbr\\u003emes=%{x}\\u003cbr\\u003eTasa de Delito cada\\u002f100.000 hab.=%{y}\\u003cextra\\u003e\\u003c\\u002fextra\\u003e\",\"legendgroup\":\"Otros Robos con Fuerza\",\"line\":{\"color\":\"#e377c2\"},\"marker\":{\"symbol\":\"circle\"},\"mode\":\"lines\",\"name\":\"Otros Robos con Fuerza\",\"orientation\":\"v\",\"showlegend\":true,\"stackgroup\":\"1\",\"x\":[\"Abril\",\"Agosto\",\"Diciembre\",\"Enero\",\"Febrero\",\"Julio\",\"Junio\",\"Marzo\",\"Mayo\",\"Noviembre\",\"Octubre\",\"Septiembre\"],\"xaxis\":\"x\",\"y\":[3.9,7.2,2.8,4.5,1.7,3.3,5.0,10.0,7.2,7.2,10.6,5.0],\"yaxis\":\"y\",\"type\":\"scatter\"},{\"fillpattern\":{\"shape\":\"\"},\"hovertemplate\":\"Tipo de Delito=Hurtos\\u003cbr\\u003emes=%{x}\\u003cbr\\u003eTasa de Delito cada\\u002f100.000 hab.=%{y}\\u003cextra\\u003e\\u003c\\u002fextra\\u003e\",\"legendgroup\":\"Hurtos\",\"line\":{\"color\":\"#7f7f7f\"},\"marker\":{\"symbol\":\"circle\"},\"mode\":\"lines\",\"name\":\"Hurtos\",\"orientation\":\"v\",\"showlegend\":true,\"stackgroup\":\"1\",\"x\":[\"Abril\",\"Agosto\",\"Diciembre\",\"Enero\",\"Febrero\",\"Julio\",\"Junio\",\"Marzo\",\"Mayo\",\"Noviembre\",\"Octubre\",\"Septiembre\"],\"xaxis\":\"x\",\"y\":[91.9,86.3,94.7,78.0,79.1,76.9,83.0,93.0,99.1,104.7,100.2,86.9],\"yaxis\":\"y\",\"type\":\"scatter\"},{\"fillpattern\":{\"shape\":\"\"},\"hovertemplate\":\"Tipo de Delito=Lesiones\\u003cbr\\u003emes=%{x}\\u003cbr\\u003eTasa de Delito cada\\u002f100.000 hab.=%{y}\\u003cextra\\u003e\\u003c\\u002fextra\\u003e\",\"legendgroup\":\"Lesiones\",\"line\":{\"color\":\"#bcbd22\"},\"marker\":{\"symbol\":\"circle\"},\"mode\":\"lines\",\"name\":\"Lesiones\",\"orientation\":\"v\",\"showlegend\":true,\"stackgroup\":\"1\",\"x\":[\"Abril\",\"Agosto\",\"Diciembre\",\"Enero\",\"Febrero\",\"Julio\",\"Junio\",\"Marzo\",\"Mayo\",\"Noviembre\",\"Octubre\",\"Septiembre\"],\"xaxis\":\"x\",\"y\":[41.8,32.3,36.8,32.3,26.2,21.2,34.0,41.8,34.0,50.1,32.3,29.5],\"yaxis\":\"y\",\"type\":\"scatter\"},{\"fillpattern\":{\"shape\":\"\"},\"hovertemplate\":\"Tipo de Delito=Homicidios\\u003cbr\\u003emes=%{x}\\u003cbr\\u003eTasa de Delito cada\\u002f100.000 hab.=%{y}\\u003cextra\\u003e\\u003c\\u002fextra\\u003e\",\"legendgroup\":\"Homicidios\",\"line\":{\"color\":\"#17becf\"},\"marker\":{\"symbol\":\"circle\"},\"mode\":\"lines\",\"name\":\"Homicidios\",\"orientation\":\"v\",\"showlegend\":true,\"stackgroup\":\"1\",\"x\":[\"Abril\",\"Agosto\",\"Diciembre\",\"Enero\",\"Febrero\",\"Julio\",\"Junio\",\"Marzo\",\"Mayo\",\"Noviembre\",\"Octubre\",\"Septiembre\"],\"xaxis\":\"x\",\"y\":[0.0,0.0,0.0,0.6,0.0,0.0,1.1,0.0,0.0,1.7,0.0,0.0],\"yaxis\":\"y\",\"type\":\"scatter\"},{\"fillpattern\":{\"shape\":\"\"},\"hovertemplate\":\"Tipo de Delito=Violaci\\u00f3n\\u003cbr\\u003emes=%{x}\\u003cbr\\u003eTasa de Delito cada\\u002f100.000 hab.=%{y}\\u003cextra\\u003e\\u003c\\u002fextra\\u003e\",\"legendgroup\":\"Violaci\\u00f3n\",\"line\":{\"color\":\"#ff9896\"},\"marker\":{\"symbol\":\"circle\"},\"mode\":\"lines\",\"name\":\"Violaci\\u00f3n\",\"orientation\":\"v\",\"showlegend\":true,\"stackgroup\":\"1\",\"x\":[\"Abril\",\"Agosto\",\"Diciembre\",\"Enero\",\"Febrero\",\"Julio\",\"Junio\",\"Marzo\",\"Mayo\",\"Noviembre\",\"Octubre\",\"Septiembre\"],\"xaxis\":\"x\",\"y\":[4.5,2.2,4.5,5.6,2.8,0.6,5.6,2.2,5.0,3.3,1.1,5.0],\"yaxis\":\"y\",\"type\":\"scatter\"},{\"fillpattern\":{\"shape\":\"\"},\"hovertemplate\":\"Tipo de Delito=Robo por Sorpresa\\u003cbr\\u003emes=%{x}\\u003cbr\\u003eTasa de Delito cada\\u002f100.000 hab.=%{y}\\u003cextra\\u003e\\u003c\\u002fextra\\u003e\",\"legendgroup\":\"Robo por Sorpresa\",\"line\":{\"color\":\"#ff7f0e\"},\"marker\":{\"symbol\":\"circle\"},\"mode\":\"lines\",\"name\":\"Robo por Sorpresa\",\"orientation\":\"v\",\"showlegend\":true,\"stackgroup\":\"1\",\"x\":[\"Abril\",\"Agosto\",\"Diciembre\",\"Enero\",\"Febrero\",\"Julio\",\"Junio\",\"Marzo\",\"Mayo\",\"Noviembre\",\"Octubre\",\"Septiembre\"],\"xaxis\":\"x\",\"y\":[8.9,3.9,6.7,6.1,6.7,4.5,7.8,6.7,5.0,9.5,7.2,5.6],\"yaxis\":\"y\",\"type\":\"scatter\"}],                        {\"template\":{\"data\":{\"histogram2dcontour\":[{\"type\":\"histogram2dcontour\",\"colorbar\":{\"outlinewidth\":0,\"ticks\":\"\"},\"colorscale\":[[0.0,\"#0d0887\"],[0.1111111111111111,\"#46039f\"],[0.2222222222222222,\"#7201a8\"],[0.3333333333333333,\"#9c179e\"],[0.4444444444444444,\"#bd3786\"],[0.5555555555555556,\"#d8576b\"],[0.6666666666666666,\"#ed7953\"],[0.7777777777777778,\"#fb9f3a\"],[0.8888888888888888,\"#fdca26\"],[1.0,\"#f0f921\"]]}],\"choropleth\":[{\"type\":\"choropleth\",\"colorbar\":{\"outlinewidth\":0,\"ticks\":\"\"}}],\"histogram2d\":[{\"type\":\"histogram2d\",\"colorbar\":{\"outlinewidth\":0,\"ticks\":\"\"},\"colorscale\":[[0.0,\"#0d0887\"],[0.1111111111111111,\"#46039f\"],[0.2222222222222222,\"#7201a8\"],[0.3333333333333333,\"#9c179e\"],[0.4444444444444444,\"#bd3786\"],[0.5555555555555556,\"#d8576b\"],[0.6666666666666666,\"#ed7953\"],[0.7777777777777778,\"#fb9f3a\"],[0.8888888888888888,\"#fdca26\"],[1.0,\"#f0f921\"]]}],\"heatmap\":[{\"type\":\"heatmap\",\"colorbar\":{\"outlinewidth\":0,\"ticks\":\"\"},\"colorscale\":[[0.0,\"#0d0887\"],[0.1111111111111111,\"#46039f\"],[0.2222222222222222,\"#7201a8\"],[0.3333333333333333,\"#9c179e\"],[0.4444444444444444,\"#bd3786\"],[0.5555555555555556,\"#d8576b\"],[0.6666666666666666,\"#ed7953\"],[0.7777777777777778,\"#fb9f3a\"],[0.8888888888888888,\"#fdca26\"],[1.0,\"#f0f921\"]]}],\"heatmapgl\":[{\"type\":\"heatmapgl\",\"colorbar\":{\"outlinewidth\":0,\"ticks\":\"\"},\"colorscale\":[[0.0,\"#0d0887\"],[0.1111111111111111,\"#46039f\"],[0.2222222222222222,\"#7201a8\"],[0.3333333333333333,\"#9c179e\"],[0.4444444444444444,\"#bd3786\"],[0.5555555555555556,\"#d8576b\"],[0.6666666666666666,\"#ed7953\"],[0.7777777777777778,\"#fb9f3a\"],[0.8888888888888888,\"#fdca26\"],[1.0,\"#f0f921\"]]}],\"contourcarpet\":[{\"type\":\"contourcarpet\",\"colorbar\":{\"outlinewidth\":0,\"ticks\":\"\"}}],\"contour\":[{\"type\":\"contour\",\"colorbar\":{\"outlinewidth\":0,\"ticks\":\"\"},\"colorscale\":[[0.0,\"#0d0887\"],[0.1111111111111111,\"#46039f\"],[0.2222222222222222,\"#7201a8\"],[0.3333333333333333,\"#9c179e\"],[0.4444444444444444,\"#bd3786\"],[0.5555555555555556,\"#d8576b\"],[0.6666666666666666,\"#ed7953\"],[0.7777777777777778,\"#fb9f3a\"],[0.8888888888888888,\"#fdca26\"],[1.0,\"#f0f921\"]]}],\"surface\":[{\"type\":\"surface\",\"colorbar\":{\"outlinewidth\":0,\"ticks\":\"\"},\"colorscale\":[[0.0,\"#0d0887\"],[0.1111111111111111,\"#46039f\"],[0.2222222222222222,\"#7201a8\"],[0.3333333333333333,\"#9c179e\"],[0.4444444444444444,\"#bd3786\"],[0.5555555555555556,\"#d8576b\"],[0.6666666666666666,\"#ed7953\"],[0.7777777777777778,\"#fb9f3a\"],[0.8888888888888888,\"#fdca26\"],[1.0,\"#f0f921\"]]}],\"mesh3d\":[{\"type\":\"mesh3d\",\"colorbar\":{\"outlinewidth\":0,\"ticks\":\"\"}}],\"scatter\":[{\"fillpattern\":{\"fillmode\":\"overlay\",\"size\":10,\"solidity\":0.2},\"type\":\"scatter\"}],\"parcoords\":[{\"type\":\"parcoords\",\"line\":{\"colorbar\":{\"outlinewidth\":0,\"ticks\":\"\"}}}],\"scatterpolargl\":[{\"type\":\"scatterpolargl\",\"marker\":{\"colorbar\":{\"outlinewidth\":0,\"ticks\":\"\"}}}],\"bar\":[{\"error_x\":{\"color\":\"#2a3f5f\"},\"error_y\":{\"color\":\"#2a3f5f\"},\"marker\":{\"line\":{\"color\":\"#E5ECF6\",\"width\":0.5},\"pattern\":{\"fillmode\":\"overlay\",\"size\":10,\"solidity\":0.2}},\"type\":\"bar\"}],\"scattergeo\":[{\"type\":\"scattergeo\",\"marker\":{\"colorbar\":{\"outlinewidth\":0,\"ticks\":\"\"}}}],\"scatterpolar\":[{\"type\":\"scatterpolar\",\"marker\":{\"colorbar\":{\"outlinewidth\":0,\"ticks\":\"\"}}}],\"histogram\":[{\"marker\":{\"pattern\":{\"fillmode\":\"overlay\",\"size\":10,\"solidity\":0.2}},\"type\":\"histogram\"}],\"scattergl\":[{\"type\":\"scattergl\",\"marker\":{\"colorbar\":{\"outlinewidth\":0,\"ticks\":\"\"}}}],\"scatter3d\":[{\"type\":\"scatter3d\",\"line\":{\"colorbar\":{\"outlinewidth\":0,\"ticks\":\"\"}},\"marker\":{\"colorbar\":{\"outlinewidth\":0,\"ticks\":\"\"}}}],\"scattermapbox\":[{\"type\":\"scattermapbox\",\"marker\":{\"colorbar\":{\"outlinewidth\":0,\"ticks\":\"\"}}}],\"scatterternary\":[{\"type\":\"scatterternary\",\"marker\":{\"colorbar\":{\"outlinewidth\":0,\"ticks\":\"\"}}}],\"scattercarpet\":[{\"type\":\"scattercarpet\",\"marker\":{\"colorbar\":{\"outlinewidth\":0,\"ticks\":\"\"}}}],\"carpet\":[{\"aaxis\":{\"endlinecolor\":\"#2a3f5f\",\"gridcolor\":\"white\",\"linecolor\":\"white\",\"minorgridcolor\":\"white\",\"startlinecolor\":\"#2a3f5f\"},\"baxis\":{\"endlinecolor\":\"#2a3f5f\",\"gridcolor\":\"white\",\"linecolor\":\"white\",\"minorgridcolor\":\"white\",\"startlinecolor\":\"#2a3f5f\"},\"type\":\"carpet\"}],\"table\":[{\"cells\":{\"fill\":{\"color\":\"#EBF0F8\"},\"line\":{\"color\":\"white\"}},\"header\":{\"fill\":{\"color\":\"#C8D4E3\"},\"line\":{\"color\":\"white\"}},\"type\":\"table\"}],\"barpolar\":[{\"marker\":{\"line\":{\"color\":\"#E5ECF6\",\"width\":0.5},\"pattern\":{\"fillmode\":\"overlay\",\"size\":10,\"solidity\":0.2}},\"type\":\"barpolar\"}],\"pie\":[{\"automargin\":true,\"type\":\"pie\"}]},\"layout\":{\"autotypenumbers\":\"strict\",\"colorway\":[\"#636efa\",\"#EF553B\",\"#00cc96\",\"#ab63fa\",\"#FFA15A\",\"#19d3f3\",\"#FF6692\",\"#B6E880\",\"#FF97FF\",\"#FECB52\"],\"font\":{\"color\":\"#2a3f5f\"},\"hovermode\":\"closest\",\"hoverlabel\":{\"align\":\"left\"},\"paper_bgcolor\":\"white\",\"plot_bgcolor\":\"#E5ECF6\",\"polar\":{\"bgcolor\":\"#E5ECF6\",\"angularaxis\":{\"gridcolor\":\"white\",\"linecolor\":\"white\",\"ticks\":\"\"},\"radialaxis\":{\"gridcolor\":\"white\",\"linecolor\":\"white\",\"ticks\":\"\"}},\"ternary\":{\"bgcolor\":\"#E5ECF6\",\"aaxis\":{\"gridcolor\":\"white\",\"linecolor\":\"white\",\"ticks\":\"\"},\"baxis\":{\"gridcolor\":\"white\",\"linecolor\":\"white\",\"ticks\":\"\"},\"caxis\":{\"gridcolor\":\"white\",\"linecolor\":\"white\",\"ticks\":\"\"}},\"coloraxis\":{\"colorbar\":{\"outlinewidth\":0,\"ticks\":\"\"}},\"colorscale\":{\"sequential\":[[0.0,\"#0d0887\"],[0.1111111111111111,\"#46039f\"],[0.2222222222222222,\"#7201a8\"],[0.3333333333333333,\"#9c179e\"],[0.4444444444444444,\"#bd3786\"],[0.5555555555555556,\"#d8576b\"],[0.6666666666666666,\"#ed7953\"],[0.7777777777777778,\"#fb9f3a\"],[0.8888888888888888,\"#fdca26\"],[1.0,\"#f0f921\"]],\"sequentialminus\":[[0.0,\"#0d0887\"],[0.1111111111111111,\"#46039f\"],[0.2222222222222222,\"#7201a8\"],[0.3333333333333333,\"#9c179e\"],[0.4444444444444444,\"#bd3786\"],[0.5555555555555556,\"#d8576b\"],[0.6666666666666666,\"#ed7953\"],[0.7777777777777778,\"#fb9f3a\"],[0.8888888888888888,\"#fdca26\"],[1.0,\"#f0f921\"]],\"diverging\":[[0,\"#8e0152\"],[0.1,\"#c51b7d\"],[0.2,\"#de77ae\"],[0.3,\"#f1b6da\"],[0.4,\"#fde0ef\"],[0.5,\"#f7f7f7\"],[0.6,\"#e6f5d0\"],[0.7,\"#b8e186\"],[0.8,\"#7fbc41\"],[0.9,\"#4d9221\"],[1,\"#276419\"]]},\"xaxis\":{\"gridcolor\":\"white\",\"linecolor\":\"white\",\"ticks\":\"\",\"title\":{\"standoff\":15},\"zerolinecolor\":\"white\",\"automargin\":true,\"zerolinewidth\":2},\"yaxis\":{\"gridcolor\":\"white\",\"linecolor\":\"white\",\"ticks\":\"\",\"title\":{\"standoff\":15},\"zerolinecolor\":\"white\",\"automargin\":true,\"zerolinewidth\":2},\"scene\":{\"xaxis\":{\"backgroundcolor\":\"#E5ECF6\",\"gridcolor\":\"white\",\"linecolor\":\"white\",\"showbackground\":true,\"ticks\":\"\",\"zerolinecolor\":\"white\",\"gridwidth\":2},\"yaxis\":{\"backgroundcolor\":\"#E5ECF6\",\"gridcolor\":\"white\",\"linecolor\":\"white\",\"showbackground\":true,\"ticks\":\"\",\"zerolinecolor\":\"white\",\"gridwidth\":2},\"zaxis\":{\"backgroundcolor\":\"#E5ECF6\",\"gridcolor\":\"white\",\"linecolor\":\"white\",\"showbackground\":true,\"ticks\":\"\",\"zerolinecolor\":\"white\",\"gridwidth\":2}},\"shapedefaults\":{\"line\":{\"color\":\"#2a3f5f\"}},\"annotationdefaults\":{\"arrowcolor\":\"#2a3f5f\",\"arrowhead\":0,\"arrowwidth\":1},\"geo\":{\"bgcolor\":\"white\",\"landcolor\":\"#E5ECF6\",\"subunitcolor\":\"white\",\"showland\":true,\"showlakes\":true,\"lakecolor\":\"white\"},\"title\":{\"x\":0.05},\"mapbox\":{\"style\":\"light\"}}},\"xaxis\":{\"anchor\":\"y\",\"domain\":[0.0,1.0],\"title\":{\"text\":\"mes\"},\"categoryorder\":\"array\",\"categoryarray\":[\"Enero\",\"Febrero\",\"Marzo\",\"Abril\",\"Mayo\",\"Junio\",\"Julio\",\"Agosto\",\"Septiembre\",\"Octubre\",\"Noviembre\",\"Diciembre\"]},\"yaxis\":{\"anchor\":\"x\",\"domain\":[0.0,1.0],\"title\":{\"text\":\"Tasa de Delito cada\\u002f100.000 hab.\"}},\"legend\":{\"title\":{\"text\":\"Tipo de Delito\"},\"tracegroupgap\":0},\"title\":{\"text\":\"Streamgraph de Tasas de Delitos en Valdivia\"},\"shapes\":[{\"line\":{\"color\":\"black\",\"dash\":\"dash\",\"width\":2},\"type\":\"line\",\"x0\":\"Marzo\",\"x1\":\"Marzo\",\"xref\":\"x\",\"y0\":0,\"y1\":1,\"yref\":\"paper\"},{\"line\":{\"color\":\"black\",\"dash\":\"dash\",\"width\":2},\"type\":\"line\",\"x0\":\"Junio\",\"x1\":\"Junio\",\"xref\":\"x\",\"y0\":0,\"y1\":1,\"yref\":\"paper\"},{\"line\":{\"color\":\"black\",\"dash\":\"dash\",\"width\":2},\"type\":\"line\",\"x0\":\"Septiembre\",\"x1\":\"Septiembre\",\"xref\":\"x\",\"y0\":0,\"y1\":1,\"yref\":\"paper\"},{\"line\":{\"color\":\"black\",\"dash\":\"dash\",\"width\":2},\"type\":\"line\",\"x0\":\"Diciembre\",\"x1\":\"Diciembre\",\"xref\":\"x\",\"y0\":0,\"y1\":1,\"yref\":\"paper\"}],\"annotations\":[{\"font\":{\"color\":\"black\"},\"showarrow\":false,\"text\":\"Verano\",\"x\":1.5,\"y\":-2.5},{\"font\":{\"color\":\"black\"},\"showarrow\":false,\"text\":\"Oto\\u00f1o\",\"x\":4.5,\"y\":-2.5},{\"font\":{\"color\":\"black\"},\"showarrow\":false,\"text\":\"Invierno\",\"x\":7.5,\"y\":-2.5},{\"font\":{\"color\":\"black\"},\"showarrow\":false,\"text\":\"Primavera\",\"x\":10.5,\"y\":-2.5}]},                        {\"responsive\": true}                    ).then(function(){\n",
       "                            \n",
       "var gd = document.getElementById('ca444e38-a6ff-4a65-b9b5-5ccfbfbb08b2');\n",
       "var x = new MutationObserver(function (mutations, observer) {{\n",
       "        var display = window.getComputedStyle(gd).display;\n",
       "        if (!display || display === 'none') {{\n",
       "            console.log([gd, 'removed!']);\n",
       "            Plotly.purge(gd);\n",
       "            observer.disconnect();\n",
       "        }}\n",
       "}});\n",
       "\n",
       "// Listen for the removal of the full notebook cells\n",
       "var notebookContainer = gd.closest('#notebook-container');\n",
       "if (notebookContainer) {{\n",
       "    x.observe(notebookContainer, {childList: true});\n",
       "}}\n",
       "\n",
       "// Listen for the clearing of the current output cell\n",
       "var outputEl = gd.closest('.output');\n",
       "if (outputEl) {{\n",
       "    x.observe(outputEl, {childList: true});\n",
       "}}\n",
       "\n",
       "                        })                };                });            </script>        </div>"
      ]
     },
     "metadata": {},
     "output_type": "display_data"
    },
    {
     "data": {
      "application/vnd.plotly.v1+json": {
       "config": {
        "plotlyServerURL": "https://plot.ly"
       },
       "data": [
        {
         "fillpattern": {
          "shape": ""
         },
         "hovertemplate": "Tipo de Delito=Robo con Violencia o Intimidación<br>mes=%{x}<br>Tasa de Delito cada/100.000 hab.=%{y}<extra></extra>",
         "legendgroup": "Robo con Violencia o Intimidación",
         "line": {
          "color": "#1f77b4"
         },
         "marker": {
          "symbol": "circle"
         },
         "mode": "lines",
         "name": "Robo con Violencia o Intimidación",
         "orientation": "v",
         "showlegend": true,
         "stackgroup": "1",
         "type": "scatter",
         "x": [
          "Abril",
          "Agosto",
          "Diciembre",
          "Enero",
          "Febrero",
          "Julio",
          "Junio",
          "Marzo",
          "Mayo",
          "Noviembre",
          "Octubre",
          "Septiembre"
         ],
         "xaxis": "x",
         "y": [
          1.6,
          1.6,
          1.6,
          6.5,
          4.9,
          8.1,
          6.5,
          11.3,
          4.9,
          6.5,
          0,
          0
         ],
         "yaxis": "y"
        },
        {
         "fillpattern": {
          "shape": ""
         },
         "hovertemplate": "Tipo de Delito=Robo Lugar Habitado<br>mes=%{x}<br>Tasa de Delito cada/100.000 hab.=%{y}<extra></extra>",
         "legendgroup": "Robo Lugar Habitado",
         "line": {
          "color": "#2ca02c"
         },
         "marker": {
          "symbol": "circle"
         },
         "mode": "lines",
         "name": "Robo Lugar Habitado",
         "orientation": "v",
         "showlegend": true,
         "stackgroup": "1",
         "type": "scatter",
         "x": [
          "Abril",
          "Agosto",
          "Diciembre",
          "Enero",
          "Febrero",
          "Julio",
          "Junio",
          "Marzo",
          "Mayo",
          "Noviembre",
          "Octubre",
          "Septiembre"
         ],
         "xaxis": "x",
         "y": [
          9.7,
          6.5,
          9.7,
          17.8,
          21.1,
          16.2,
          8.1,
          13,
          14.6,
          9.7,
          6.5,
          14.6
         ],
         "yaxis": "y"
        },
        {
         "fillpattern": {
          "shape": ""
         },
         "hovertemplate": "Tipo de Delito=Robo Lugar No Habitado<br>mes=%{x}<br>Tasa de Delito cada/100.000 hab.=%{y}<extra></extra>",
         "legendgroup": "Robo Lugar No Habitado",
         "line": {
          "color": "#d62728"
         },
         "marker": {
          "symbol": "circle"
         },
         "mode": "lines",
         "name": "Robo Lugar No Habitado",
         "orientation": "v",
         "showlegend": true,
         "stackgroup": "1",
         "type": "scatter",
         "x": [
          "Abril",
          "Agosto",
          "Diciembre",
          "Enero",
          "Febrero",
          "Julio",
          "Junio",
          "Marzo",
          "Mayo",
          "Noviembre",
          "Octubre",
          "Septiembre"
         ],
         "xaxis": "x",
         "y": [
          21.1,
          13,
          22.7,
          19.4,
          17.8,
          11.3,
          11.3,
          21.1,
          11.3,
          19.4,
          8.1,
          14.6
         ],
         "yaxis": "y"
        },
        {
         "fillpattern": {
          "shape": ""
         },
         "hovertemplate": "Tipo de Delito=Robo de Vehículo<br>mes=%{x}<br>Tasa de Delito cada/100.000 hab.=%{y}<extra></extra>",
         "legendgroup": "Robo de Vehículo",
         "line": {
          "color": "#9467bd"
         },
         "marker": {
          "symbol": "circle"
         },
         "mode": "lines",
         "name": "Robo de Vehículo",
         "orientation": "v",
         "showlegend": true,
         "stackgroup": "1",
         "type": "scatter",
         "x": [
          "Abril",
          "Agosto",
          "Diciembre",
          "Enero",
          "Febrero",
          "Julio",
          "Junio",
          "Marzo",
          "Mayo",
          "Noviembre",
          "Octubre",
          "Septiembre"
         ],
         "xaxis": "x",
         "y": [
          9.7,
          0,
          6.5,
          3.2,
          1.6,
          4.9,
          1.6,
          4.9,
          4.9,
          3.2,
          3.2,
          0
         ],
         "yaxis": "y"
        },
        {
         "fillpattern": {
          "shape": ""
         },
         "hovertemplate": "Tipo de Delito=Robo Accesorio Vehículo<br>mes=%{x}<br>Tasa de Delito cada/100.000 hab.=%{y}<extra></extra>",
         "legendgroup": "Robo Accesorio Vehículo",
         "line": {
          "color": "#8c564b"
         },
         "marker": {
          "symbol": "circle"
         },
         "mode": "lines",
         "name": "Robo Accesorio Vehículo",
         "orientation": "v",
         "showlegend": true,
         "stackgroup": "1",
         "type": "scatter",
         "x": [
          "Abril",
          "Agosto",
          "Diciembre",
          "Enero",
          "Febrero",
          "Julio",
          "Junio",
          "Marzo",
          "Mayo",
          "Noviembre",
          "Octubre",
          "Septiembre"
         ],
         "xaxis": "x",
         "y": [
          0,
          1.6,
          8.1,
          1.6,
          6.5,
          1.6,
          3.2,
          1.6,
          1.6,
          4.9,
          3.2,
          1.6
         ],
         "yaxis": "y"
        },
        {
         "fillpattern": {
          "shape": ""
         },
         "hovertemplate": "Tipo de Delito=Otros Robos con Fuerza<br>mes=%{x}<br>Tasa de Delito cada/100.000 hab.=%{y}<extra></extra>",
         "legendgroup": "Otros Robos con Fuerza",
         "line": {
          "color": "#e377c2"
         },
         "marker": {
          "symbol": "circle"
         },
         "mode": "lines",
         "name": "Otros Robos con Fuerza",
         "orientation": "v",
         "showlegend": true,
         "stackgroup": "1",
         "type": "scatter",
         "x": [
          "Abril",
          "Agosto",
          "Diciembre",
          "Enero",
          "Febrero",
          "Julio",
          "Junio",
          "Marzo",
          "Mayo",
          "Noviembre",
          "Octubre",
          "Septiembre"
         ],
         "xaxis": "x",
         "y": [
          0,
          0,
          0,
          0,
          1.6,
          0,
          0,
          4.9,
          3.2,
          1.6,
          6.5,
          1.6
         ],
         "yaxis": "y"
        },
        {
         "fillpattern": {
          "shape": ""
         },
         "hovertemplate": "Tipo de Delito=Hurtos<br>mes=%{x}<br>Tasa de Delito cada/100.000 hab.=%{y}<extra></extra>",
         "legendgroup": "Hurtos",
         "line": {
          "color": "#7f7f7f"
         },
         "marker": {
          "symbol": "circle"
         },
         "mode": "lines",
         "name": "Hurtos",
         "orientation": "v",
         "showlegend": true,
         "stackgroup": "1",
         "type": "scatter",
         "x": [
          "Abril",
          "Agosto",
          "Diciembre",
          "Enero",
          "Febrero",
          "Julio",
          "Junio",
          "Marzo",
          "Mayo",
          "Noviembre",
          "Octubre",
          "Septiembre"
         ],
         "xaxis": "x",
         "y": [
          60,
          50.2,
          50.2,
          48.6,
          48.6,
          72.9,
          47,
          53.5,
          35.7,
          74.5,
          66.4,
          48.6
         ],
         "yaxis": "y"
        },
        {
         "fillpattern": {
          "shape": ""
         },
         "hovertemplate": "Tipo de Delito=Lesiones<br>mes=%{x}<br>Tasa de Delito cada/100.000 hab.=%{y}<extra></extra>",
         "legendgroup": "Lesiones",
         "line": {
          "color": "#bcbd22"
         },
         "marker": {
          "symbol": "circle"
         },
         "mode": "lines",
         "name": "Lesiones",
         "orientation": "v",
         "showlegend": true,
         "stackgroup": "1",
         "type": "scatter",
         "x": [
          "Abril",
          "Agosto",
          "Diciembre",
          "Enero",
          "Febrero",
          "Julio",
          "Junio",
          "Marzo",
          "Mayo",
          "Noviembre",
          "Octubre",
          "Septiembre"
         ],
         "xaxis": "x",
         "y": [
          38.9,
          22.7,
          34,
          35.7,
          24.3,
          29.2,
          32.4,
          38.9,
          30.8,
          30.8,
          34,
          38.9
         ],
         "yaxis": "y"
        },
        {
         "fillpattern": {
          "shape": ""
         },
         "hovertemplate": "Tipo de Delito=Homicidios<br>mes=%{x}<br>Tasa de Delito cada/100.000 hab.=%{y}<extra></extra>",
         "legendgroup": "Homicidios",
         "line": {
          "color": "#17becf"
         },
         "marker": {
          "symbol": "circle"
         },
         "mode": "lines",
         "name": "Homicidios",
         "orientation": "v",
         "showlegend": true,
         "stackgroup": "1",
         "type": "scatter",
         "x": [
          "Abril",
          "Agosto",
          "Diciembre",
          "Enero",
          "Febrero",
          "Julio",
          "Junio",
          "Marzo",
          "Mayo",
          "Noviembre",
          "Octubre",
          "Septiembre"
         ],
         "xaxis": "x",
         "y": [
          0,
          0,
          0,
          0,
          0,
          0,
          0,
          0,
          0,
          0,
          0,
          1.6
         ],
         "yaxis": "y"
        },
        {
         "fillpattern": {
          "shape": ""
         },
         "hovertemplate": "Tipo de Delito=Violación<br>mes=%{x}<br>Tasa de Delito cada/100.000 hab.=%{y}<extra></extra>",
         "legendgroup": "Violación",
         "line": {
          "color": "#ff9896"
         },
         "marker": {
          "symbol": "circle"
         },
         "mode": "lines",
         "name": "Violación",
         "orientation": "v",
         "showlegend": true,
         "stackgroup": "1",
         "type": "scatter",
         "x": [
          "Abril",
          "Agosto",
          "Diciembre",
          "Enero",
          "Febrero",
          "Julio",
          "Junio",
          "Marzo",
          "Mayo",
          "Noviembre",
          "Octubre",
          "Septiembre"
         ],
         "xaxis": "x",
         "y": [
          3.2,
          3.2,
          3.2,
          1.6,
          1.6,
          0,
          3.2,
          4.9,
          1.6,
          3.2,
          1.6,
          1.6
         ],
         "yaxis": "y"
        },
        {
         "fillpattern": {
          "shape": ""
         },
         "hovertemplate": "Tipo de Delito=Robo por Sorpresa<br>mes=%{x}<br>Tasa de Delito cada/100.000 hab.=%{y}<extra></extra>",
         "legendgroup": "Robo por Sorpresa",
         "line": {
          "color": "#ff7f0e"
         },
         "marker": {
          "symbol": "circle"
         },
         "mode": "lines",
         "name": "Robo por Sorpresa",
         "orientation": "v",
         "showlegend": true,
         "stackgroup": "1",
         "type": "scatter",
         "x": [
          "Abril",
          "Agosto",
          "Diciembre",
          "Enero",
          "Febrero",
          "Julio",
          "Junio",
          "Marzo",
          "Mayo",
          "Noviembre",
          "Octubre",
          "Septiembre"
         ],
         "xaxis": "x",
         "y": [
          0,
          1.6,
          0,
          0,
          1.6,
          0,
          4.9,
          1.6,
          1.6,
          0,
          1.6,
          0
         ],
         "yaxis": "y"
        }
       ],
       "layout": {
        "annotations": [
         {
          "font": {
           "color": "black"
          },
          "showarrow": false,
          "text": "Verano",
          "x": 1.5,
          "y": -2.5
         },
         {
          "font": {
           "color": "black"
          },
          "showarrow": false,
          "text": "Otoño",
          "x": 4.5,
          "y": -2.5
         },
         {
          "font": {
           "color": "black"
          },
          "showarrow": false,
          "text": "Invierno",
          "x": 7.5,
          "y": -2.5
         },
         {
          "font": {
           "color": "black"
          },
          "showarrow": false,
          "text": "Primavera",
          "x": 10.5,
          "y": -2.5
         }
        ],
        "autosize": true,
        "legend": {
         "title": {
          "text": "Tipo de Delito"
         },
         "tracegroupgap": 0
        },
        "shapes": [
         {
          "line": {
           "color": "black",
           "dash": "dash",
           "width": 2
          },
          "type": "line",
          "x0": "Marzo",
          "x1": "Marzo",
          "xref": "x",
          "y0": 0,
          "y1": 1,
          "yref": "paper"
         },
         {
          "line": {
           "color": "black",
           "dash": "dash",
           "width": 2
          },
          "type": "line",
          "x0": "Junio",
          "x1": "Junio",
          "xref": "x",
          "y0": 0,
          "y1": 1,
          "yref": "paper"
         },
         {
          "line": {
           "color": "black",
           "dash": "dash",
           "width": 2
          },
          "type": "line",
          "x0": "Septiembre",
          "x1": "Septiembre",
          "xref": "x",
          "y0": 0,
          "y1": 1,
          "yref": "paper"
         },
         {
          "line": {
           "color": "black",
           "dash": "dash",
           "width": 2
          },
          "type": "line",
          "x0": "Diciembre",
          "x1": "Diciembre",
          "xref": "x",
          "y0": 0,
          "y1": 1,
          "yref": "paper"
         }
        ],
        "template": {
         "data": {
          "bar": [
           {
            "error_x": {
             "color": "#2a3f5f"
            },
            "error_y": {
             "color": "#2a3f5f"
            },
            "marker": {
             "line": {
              "color": "#E5ECF6",
              "width": 0.5
             },
             "pattern": {
              "fillmode": "overlay",
              "size": 10,
              "solidity": 0.2
             }
            },
            "type": "bar"
           }
          ],
          "barpolar": [
           {
            "marker": {
             "line": {
              "color": "#E5ECF6",
              "width": 0.5
             },
             "pattern": {
              "fillmode": "overlay",
              "size": 10,
              "solidity": 0.2
             }
            },
            "type": "barpolar"
           }
          ],
          "carpet": [
           {
            "aaxis": {
             "endlinecolor": "#2a3f5f",
             "gridcolor": "white",
             "linecolor": "white",
             "minorgridcolor": "white",
             "startlinecolor": "#2a3f5f"
            },
            "baxis": {
             "endlinecolor": "#2a3f5f",
             "gridcolor": "white",
             "linecolor": "white",
             "minorgridcolor": "white",
             "startlinecolor": "#2a3f5f"
            },
            "type": "carpet"
           }
          ],
          "choropleth": [
           {
            "colorbar": {
             "outlinewidth": 0,
             "ticks": ""
            },
            "type": "choropleth"
           }
          ],
          "contour": [
           {
            "colorbar": {
             "outlinewidth": 0,
             "ticks": ""
            },
            "colorscale": [
             [
              0,
              "#0d0887"
             ],
             [
              0.1111111111111111,
              "#46039f"
             ],
             [
              0.2222222222222222,
              "#7201a8"
             ],
             [
              0.3333333333333333,
              "#9c179e"
             ],
             [
              0.4444444444444444,
              "#bd3786"
             ],
             [
              0.5555555555555556,
              "#d8576b"
             ],
             [
              0.6666666666666666,
              "#ed7953"
             ],
             [
              0.7777777777777778,
              "#fb9f3a"
             ],
             [
              0.8888888888888888,
              "#fdca26"
             ],
             [
              1,
              "#f0f921"
             ]
            ],
            "type": "contour"
           }
          ],
          "contourcarpet": [
           {
            "colorbar": {
             "outlinewidth": 0,
             "ticks": ""
            },
            "type": "contourcarpet"
           }
          ],
          "heatmap": [
           {
            "colorbar": {
             "outlinewidth": 0,
             "ticks": ""
            },
            "colorscale": [
             [
              0,
              "#0d0887"
             ],
             [
              0.1111111111111111,
              "#46039f"
             ],
             [
              0.2222222222222222,
              "#7201a8"
             ],
             [
              0.3333333333333333,
              "#9c179e"
             ],
             [
              0.4444444444444444,
              "#bd3786"
             ],
             [
              0.5555555555555556,
              "#d8576b"
             ],
             [
              0.6666666666666666,
              "#ed7953"
             ],
             [
              0.7777777777777778,
              "#fb9f3a"
             ],
             [
              0.8888888888888888,
              "#fdca26"
             ],
             [
              1,
              "#f0f921"
             ]
            ],
            "type": "heatmap"
           }
          ],
          "heatmapgl": [
           {
            "colorbar": {
             "outlinewidth": 0,
             "ticks": ""
            },
            "colorscale": [
             [
              0,
              "#0d0887"
             ],
             [
              0.1111111111111111,
              "#46039f"
             ],
             [
              0.2222222222222222,
              "#7201a8"
             ],
             [
              0.3333333333333333,
              "#9c179e"
             ],
             [
              0.4444444444444444,
              "#bd3786"
             ],
             [
              0.5555555555555556,
              "#d8576b"
             ],
             [
              0.6666666666666666,
              "#ed7953"
             ],
             [
              0.7777777777777778,
              "#fb9f3a"
             ],
             [
              0.8888888888888888,
              "#fdca26"
             ],
             [
              1,
              "#f0f921"
             ]
            ],
            "type": "heatmapgl"
           }
          ],
          "histogram": [
           {
            "marker": {
             "pattern": {
              "fillmode": "overlay",
              "size": 10,
              "solidity": 0.2
             }
            },
            "type": "histogram"
           }
          ],
          "histogram2d": [
           {
            "colorbar": {
             "outlinewidth": 0,
             "ticks": ""
            },
            "colorscale": [
             [
              0,
              "#0d0887"
             ],
             [
              0.1111111111111111,
              "#46039f"
             ],
             [
              0.2222222222222222,
              "#7201a8"
             ],
             [
              0.3333333333333333,
              "#9c179e"
             ],
             [
              0.4444444444444444,
              "#bd3786"
             ],
             [
              0.5555555555555556,
              "#d8576b"
             ],
             [
              0.6666666666666666,
              "#ed7953"
             ],
             [
              0.7777777777777778,
              "#fb9f3a"
             ],
             [
              0.8888888888888888,
              "#fdca26"
             ],
             [
              1,
              "#f0f921"
             ]
            ],
            "type": "histogram2d"
           }
          ],
          "histogram2dcontour": [
           {
            "colorbar": {
             "outlinewidth": 0,
             "ticks": ""
            },
            "colorscale": [
             [
              0,
              "#0d0887"
             ],
             [
              0.1111111111111111,
              "#46039f"
             ],
             [
              0.2222222222222222,
              "#7201a8"
             ],
             [
              0.3333333333333333,
              "#9c179e"
             ],
             [
              0.4444444444444444,
              "#bd3786"
             ],
             [
              0.5555555555555556,
              "#d8576b"
             ],
             [
              0.6666666666666666,
              "#ed7953"
             ],
             [
              0.7777777777777778,
              "#fb9f3a"
             ],
             [
              0.8888888888888888,
              "#fdca26"
             ],
             [
              1,
              "#f0f921"
             ]
            ],
            "type": "histogram2dcontour"
           }
          ],
          "mesh3d": [
           {
            "colorbar": {
             "outlinewidth": 0,
             "ticks": ""
            },
            "type": "mesh3d"
           }
          ],
          "parcoords": [
           {
            "line": {
             "colorbar": {
              "outlinewidth": 0,
              "ticks": ""
             }
            },
            "type": "parcoords"
           }
          ],
          "pie": [
           {
            "automargin": true,
            "type": "pie"
           }
          ],
          "scatter": [
           {
            "fillpattern": {
             "fillmode": "overlay",
             "size": 10,
             "solidity": 0.2
            },
            "type": "scatter"
           }
          ],
          "scatter3d": [
           {
            "line": {
             "colorbar": {
              "outlinewidth": 0,
              "ticks": ""
             }
            },
            "marker": {
             "colorbar": {
              "outlinewidth": 0,
              "ticks": ""
             }
            },
            "type": "scatter3d"
           }
          ],
          "scattercarpet": [
           {
            "marker": {
             "colorbar": {
              "outlinewidth": 0,
              "ticks": ""
             }
            },
            "type": "scattercarpet"
           }
          ],
          "scattergeo": [
           {
            "marker": {
             "colorbar": {
              "outlinewidth": 0,
              "ticks": ""
             }
            },
            "type": "scattergeo"
           }
          ],
          "scattergl": [
           {
            "marker": {
             "colorbar": {
              "outlinewidth": 0,
              "ticks": ""
             }
            },
            "type": "scattergl"
           }
          ],
          "scattermapbox": [
           {
            "marker": {
             "colorbar": {
              "outlinewidth": 0,
              "ticks": ""
             }
            },
            "type": "scattermapbox"
           }
          ],
          "scatterpolar": [
           {
            "marker": {
             "colorbar": {
              "outlinewidth": 0,
              "ticks": ""
             }
            },
            "type": "scatterpolar"
           }
          ],
          "scatterpolargl": [
           {
            "marker": {
             "colorbar": {
              "outlinewidth": 0,
              "ticks": ""
             }
            },
            "type": "scatterpolargl"
           }
          ],
          "scatterternary": [
           {
            "marker": {
             "colorbar": {
              "outlinewidth": 0,
              "ticks": ""
             }
            },
            "type": "scatterternary"
           }
          ],
          "surface": [
           {
            "colorbar": {
             "outlinewidth": 0,
             "ticks": ""
            },
            "colorscale": [
             [
              0,
              "#0d0887"
             ],
             [
              0.1111111111111111,
              "#46039f"
             ],
             [
              0.2222222222222222,
              "#7201a8"
             ],
             [
              0.3333333333333333,
              "#9c179e"
             ],
             [
              0.4444444444444444,
              "#bd3786"
             ],
             [
              0.5555555555555556,
              "#d8576b"
             ],
             [
              0.6666666666666666,
              "#ed7953"
             ],
             [
              0.7777777777777778,
              "#fb9f3a"
             ],
             [
              0.8888888888888888,
              "#fdca26"
             ],
             [
              1,
              "#f0f921"
             ]
            ],
            "type": "surface"
           }
          ],
          "table": [
           {
            "cells": {
             "fill": {
              "color": "#EBF0F8"
             },
             "line": {
              "color": "white"
             }
            },
            "header": {
             "fill": {
              "color": "#C8D4E3"
             },
             "line": {
              "color": "white"
             }
            },
            "type": "table"
           }
          ]
         },
         "layout": {
          "annotationdefaults": {
           "arrowcolor": "#2a3f5f",
           "arrowhead": 0,
           "arrowwidth": 1
          },
          "autotypenumbers": "strict",
          "coloraxis": {
           "colorbar": {
            "outlinewidth": 0,
            "ticks": ""
           }
          },
          "colorscale": {
           "diverging": [
            [
             0,
             "#8e0152"
            ],
            [
             0.1,
             "#c51b7d"
            ],
            [
             0.2,
             "#de77ae"
            ],
            [
             0.3,
             "#f1b6da"
            ],
            [
             0.4,
             "#fde0ef"
            ],
            [
             0.5,
             "#f7f7f7"
            ],
            [
             0.6,
             "#e6f5d0"
            ],
            [
             0.7,
             "#b8e186"
            ],
            [
             0.8,
             "#7fbc41"
            ],
            [
             0.9,
             "#4d9221"
            ],
            [
             1,
             "#276419"
            ]
           ],
           "sequential": [
            [
             0,
             "#0d0887"
            ],
            [
             0.1111111111111111,
             "#46039f"
            ],
            [
             0.2222222222222222,
             "#7201a8"
            ],
            [
             0.3333333333333333,
             "#9c179e"
            ],
            [
             0.4444444444444444,
             "#bd3786"
            ],
            [
             0.5555555555555556,
             "#d8576b"
            ],
            [
             0.6666666666666666,
             "#ed7953"
            ],
            [
             0.7777777777777778,
             "#fb9f3a"
            ],
            [
             0.8888888888888888,
             "#fdca26"
            ],
            [
             1,
             "#f0f921"
            ]
           ],
           "sequentialminus": [
            [
             0,
             "#0d0887"
            ],
            [
             0.1111111111111111,
             "#46039f"
            ],
            [
             0.2222222222222222,
             "#7201a8"
            ],
            [
             0.3333333333333333,
             "#9c179e"
            ],
            [
             0.4444444444444444,
             "#bd3786"
            ],
            [
             0.5555555555555556,
             "#d8576b"
            ],
            [
             0.6666666666666666,
             "#ed7953"
            ],
            [
             0.7777777777777778,
             "#fb9f3a"
            ],
            [
             0.8888888888888888,
             "#fdca26"
            ],
            [
             1,
             "#f0f921"
            ]
           ]
          },
          "colorway": [
           "#636efa",
           "#EF553B",
           "#00cc96",
           "#ab63fa",
           "#FFA15A",
           "#19d3f3",
           "#FF6692",
           "#B6E880",
           "#FF97FF",
           "#FECB52"
          ],
          "font": {
           "color": "#2a3f5f"
          },
          "geo": {
           "bgcolor": "white",
           "lakecolor": "white",
           "landcolor": "#E5ECF6",
           "showlakes": true,
           "showland": true,
           "subunitcolor": "white"
          },
          "hoverlabel": {
           "align": "left"
          },
          "hovermode": "closest",
          "mapbox": {
           "style": "light"
          },
          "paper_bgcolor": "white",
          "plot_bgcolor": "#E5ECF6",
          "polar": {
           "angularaxis": {
            "gridcolor": "white",
            "linecolor": "white",
            "ticks": ""
           },
           "bgcolor": "#E5ECF6",
           "radialaxis": {
            "gridcolor": "white",
            "linecolor": "white",
            "ticks": ""
           }
          },
          "scene": {
           "xaxis": {
            "backgroundcolor": "#E5ECF6",
            "gridcolor": "white",
            "gridwidth": 2,
            "linecolor": "white",
            "showbackground": true,
            "ticks": "",
            "zerolinecolor": "white"
           },
           "yaxis": {
            "backgroundcolor": "#E5ECF6",
            "gridcolor": "white",
            "gridwidth": 2,
            "linecolor": "white",
            "showbackground": true,
            "ticks": "",
            "zerolinecolor": "white"
           },
           "zaxis": {
            "backgroundcolor": "#E5ECF6",
            "gridcolor": "white",
            "gridwidth": 2,
            "linecolor": "white",
            "showbackground": true,
            "ticks": "",
            "zerolinecolor": "white"
           }
          },
          "shapedefaults": {
           "line": {
            "color": "#2a3f5f"
           }
          },
          "ternary": {
           "aaxis": {
            "gridcolor": "white",
            "linecolor": "white",
            "ticks": ""
           },
           "baxis": {
            "gridcolor": "white",
            "linecolor": "white",
            "ticks": ""
           },
           "bgcolor": "#E5ECF6",
           "caxis": {
            "gridcolor": "white",
            "linecolor": "white",
            "ticks": ""
           }
          },
          "title": {
           "x": 0.05
          },
          "xaxis": {
           "automargin": true,
           "gridcolor": "white",
           "linecolor": "white",
           "ticks": "",
           "title": {
            "standoff": 15
           },
           "zerolinecolor": "white",
           "zerolinewidth": 2
          },
          "yaxis": {
           "automargin": true,
           "gridcolor": "white",
           "linecolor": "white",
           "ticks": "",
           "title": {
            "standoff": 15
           },
           "zerolinecolor": "white",
           "zerolinewidth": 2
          }
         }
        },
        "title": {
         "text": "Streamgraph de Tasas de Delitos en Coyhaique"
        },
        "xaxis": {
         "anchor": "y",
         "autorange": true,
         "categoryarray": [
          "Enero",
          "Febrero",
          "Marzo",
          "Abril",
          "Mayo",
          "Junio",
          "Julio",
          "Agosto",
          "Septiembre",
          "Octubre",
          "Noviembre",
          "Diciembre"
         ],
         "categoryorder": "array",
         "domain": [
          0,
          1
         ],
         "range": [
          0,
          11.014745308310992
         ],
         "title": {
          "text": "mes"
         },
         "type": "category"
        },
        "yaxis": {
         "anchor": "x",
         "autorange": true,
         "domain": [
          0,
          1
         ],
         "range": [
          -11.805882352941179,
          164.51609907120746
         ],
         "title": {
          "text": "Tasa de Delito cada/100.000 hab."
         },
         "type": "linear"
        }
       }
      },
      "image/png": "[encoded data removed]",
      "text/html": [
       "<div>                            <div id=\"a9baa09d-e2f5-4fe3-b61f-f402ca807b12\" class=\"plotly-graph-div\" style=\"height:525px; width:100%;\"></div>            <script type=\"text/javascript\">                require([\"plotly\"], function(Plotly) {                    window.PLOTLYENV=window.PLOTLYENV || {};                                    if (document.getElementById(\"a9baa09d-e2f5-4fe3-b61f-f402ca807b12\")) {                    Plotly.newPlot(                        \"a9baa09d-e2f5-4fe3-b61f-f402ca807b12\",                        [{\"fillpattern\":{\"shape\":\"\"},\"hovertemplate\":\"Tipo de Delito=Robo con Violencia o Intimidaci\\u00f3n\\u003cbr\\u003emes=%{x}\\u003cbr\\u003eTasa de Delito cada\\u002f100.000 hab.=%{y}\\u003cextra\\u003e\\u003c\\u002fextra\\u003e\",\"legendgroup\":\"Robo con Violencia o Intimidaci\\u00f3n\",\"line\":{\"color\":\"#1f77b4\"},\"marker\":{\"symbol\":\"circle\"},\"mode\":\"lines\",\"name\":\"Robo con Violencia o Intimidaci\\u00f3n\",\"orientation\":\"v\",\"showlegend\":true,\"stackgroup\":\"1\",\"x\":[\"Abril\",\"Agosto\",\"Diciembre\",\"Enero\",\"Febrero\",\"Julio\",\"Junio\",\"Marzo\",\"Mayo\",\"Noviembre\",\"Octubre\",\"Septiembre\"],\"xaxis\":\"x\",\"y\":[1.6,1.6,1.6,6.5,4.9,8.1,6.5,11.3,4.9,6.5,0.0,0.0],\"yaxis\":\"y\",\"type\":\"scatter\"},{\"fillpattern\":{\"shape\":\"\"},\"hovertemplate\":\"Tipo de Delito=Robo Lugar Habitado\\u003cbr\\u003emes=%{x}\\u003cbr\\u003eTasa de Delito cada\\u002f100.000 hab.=%{y}\\u003cextra\\u003e\\u003c\\u002fextra\\u003e\",\"legendgroup\":\"Robo Lugar Habitado\",\"line\":{\"color\":\"#2ca02c\"},\"marker\":{\"symbol\":\"circle\"},\"mode\":\"lines\",\"name\":\"Robo Lugar Habitado\",\"orientation\":\"v\",\"showlegend\":true,\"stackgroup\":\"1\",\"x\":[\"Abril\",\"Agosto\",\"Diciembre\",\"Enero\",\"Febrero\",\"Julio\",\"Junio\",\"Marzo\",\"Mayo\",\"Noviembre\",\"Octubre\",\"Septiembre\"],\"xaxis\":\"x\",\"y\":[9.7,6.5,9.7,17.8,21.1,16.2,8.1,13.0,14.6,9.7,6.5,14.6],\"yaxis\":\"y\",\"type\":\"scatter\"},{\"fillpattern\":{\"shape\":\"\"},\"hovertemplate\":\"Tipo de Delito=Robo Lugar No Habitado\\u003cbr\\u003emes=%{x}\\u003cbr\\u003eTasa de Delito cada\\u002f100.000 hab.=%{y}\\u003cextra\\u003e\\u003c\\u002fextra\\u003e\",\"legendgroup\":\"Robo Lugar No Habitado\",\"line\":{\"color\":\"#d62728\"},\"marker\":{\"symbol\":\"circle\"},\"mode\":\"lines\",\"name\":\"Robo Lugar No Habitado\",\"orientation\":\"v\",\"showlegend\":true,\"stackgroup\":\"1\",\"x\":[\"Abril\",\"Agosto\",\"Diciembre\",\"Enero\",\"Febrero\",\"Julio\",\"Junio\",\"Marzo\",\"Mayo\",\"Noviembre\",\"Octubre\",\"Septiembre\"],\"xaxis\":\"x\",\"y\":[21.1,13.0,22.7,19.4,17.8,11.3,11.3,21.1,11.3,19.4,8.1,14.6],\"yaxis\":\"y\",\"type\":\"scatter\"},{\"fillpattern\":{\"shape\":\"\"},\"hovertemplate\":\"Tipo de Delito=Robo de Veh\\u00edculo\\u003cbr\\u003emes=%{x}\\u003cbr\\u003eTasa de Delito cada\\u002f100.000 hab.=%{y}\\u003cextra\\u003e\\u003c\\u002fextra\\u003e\",\"legendgroup\":\"Robo de Veh\\u00edculo\",\"line\":{\"color\":\"#9467bd\"},\"marker\":{\"symbol\":\"circle\"},\"mode\":\"lines\",\"name\":\"Robo de Veh\\u00edculo\",\"orientation\":\"v\",\"showlegend\":true,\"stackgroup\":\"1\",\"x\":[\"Abril\",\"Agosto\",\"Diciembre\",\"Enero\",\"Febrero\",\"Julio\",\"Junio\",\"Marzo\",\"Mayo\",\"Noviembre\",\"Octubre\",\"Septiembre\"],\"xaxis\":\"x\",\"y\":[9.7,0.0,6.5,3.2,1.6,4.9,1.6,4.9,4.9,3.2,3.2,0.0],\"yaxis\":\"y\",\"type\":\"scatter\"},{\"fillpattern\":{\"shape\":\"\"},\"hovertemplate\":\"Tipo de Delito=Robo Accesorio Veh\\u00edculo\\u003cbr\\u003emes=%{x}\\u003cbr\\u003eTasa de Delito cada\\u002f100.000 hab.=%{y}\\u003cextra\\u003e\\u003c\\u002fextra\\u003e\",\"legendgroup\":\"Robo Accesorio Veh\\u00edculo\",\"line\":{\"color\":\"#8c564b\"},\"marker\":{\"symbol\":\"circle\"},\"mode\":\"lines\",\"name\":\"Robo Accesorio Veh\\u00edculo\",\"orientation\":\"v\",\"showlegend\":true,\"stackgroup\":\"1\",\"x\":[\"Abril\",\"Agosto\",\"Diciembre\",\"Enero\",\"Febrero\",\"Julio\",\"Junio\",\"Marzo\",\"Mayo\",\"Noviembre\",\"Octubre\",\"Septiembre\"],\"xaxis\":\"x\",\"y\":[0.0,1.6,8.1,1.6,6.5,1.6,3.2,1.6,1.6,4.9,3.2,1.6],\"yaxis\":\"y\",\"type\":\"scatter\"},{\"fillpattern\":{\"shape\":\"\"},\"hovertemplate\":\"Tipo de Delito=Otros Robos con Fuerza\\u003cbr\\u003emes=%{x}\\u003cbr\\u003eTasa de Delito cada\\u002f100.000 hab.=%{y}\\u003cextra\\u003e\\u003c\\u002fextra\\u003e\",\"legendgroup\":\"Otros Robos con Fuerza\",\"line\":{\"color\":\"#e377c2\"},\"marker\":{\"symbol\":\"circle\"},\"mode\":\"lines\",\"name\":\"Otros Robos con Fuerza\",\"orientation\":\"v\",\"showlegend\":true,\"stackgroup\":\"1\",\"x\":[\"Abril\",\"Agosto\",\"Diciembre\",\"Enero\",\"Febrero\",\"Julio\",\"Junio\",\"Marzo\",\"Mayo\",\"Noviembre\",\"Octubre\",\"Septiembre\"],\"xaxis\":\"x\",\"y\":[0.0,0.0,0.0,0.0,1.6,0.0,0.0,4.9,3.2,1.6,6.5,1.6],\"yaxis\":\"y\",\"type\":\"scatter\"},{\"fillpattern\":{\"shape\":\"\"},\"hovertemplate\":\"Tipo de Delito=Hurtos\\u003cbr\\u003emes=%{x}\\u003cbr\\u003eTasa de Delito cada\\u002f100.000 hab.=%{y}\\u003cextra\\u003e\\u003c\\u002fextra\\u003e\",\"legendgroup\":\"Hurtos\",\"line\":{\"color\":\"#7f7f7f\"},\"marker\":{\"symbol\":\"circle\"},\"mode\":\"lines\",\"name\":\"Hurtos\",\"orientation\":\"v\",\"showlegend\":true,\"stackgroup\":\"1\",\"x\":[\"Abril\",\"Agosto\",\"Diciembre\",\"Enero\",\"Febrero\",\"Julio\",\"Junio\",\"Marzo\",\"Mayo\",\"Noviembre\",\"Octubre\",\"Septiembre\"],\"xaxis\":\"x\",\"y\":[60.0,50.2,50.2,48.6,48.6,72.9,47.0,53.5,35.7,74.5,66.4,48.6],\"yaxis\":\"y\",\"type\":\"scatter\"},{\"fillpattern\":{\"shape\":\"\"},\"hovertemplate\":\"Tipo de Delito=Lesiones\\u003cbr\\u003emes=%{x}\\u003cbr\\u003eTasa de Delito cada\\u002f100.000 hab.=%{y}\\u003cextra\\u003e\\u003c\\u002fextra\\u003e\",\"legendgroup\":\"Lesiones\",\"line\":{\"color\":\"#bcbd22\"},\"marker\":{\"symbol\":\"circle\"},\"mode\":\"lines\",\"name\":\"Lesiones\",\"orientation\":\"v\",\"showlegend\":true,\"stackgroup\":\"1\",\"x\":[\"Abril\",\"Agosto\",\"Diciembre\",\"Enero\",\"Febrero\",\"Julio\",\"Junio\",\"Marzo\",\"Mayo\",\"Noviembre\",\"Octubre\",\"Septiembre\"],\"xaxis\":\"x\",\"y\":[38.9,22.7,34.0,35.7,24.3,29.2,32.4,38.9,30.8,30.8,34.0,38.9],\"yaxis\":\"y\",\"type\":\"scatter\"},{\"fillpattern\":{\"shape\":\"\"},\"hovertemplate\":\"Tipo de Delito=Homicidios\\u003cbr\\u003emes=%{x}\\u003cbr\\u003eTasa de Delito cada\\u002f100.000 hab.=%{y}\\u003cextra\\u003e\\u003c\\u002fextra\\u003e\",\"legendgroup\":\"Homicidios\",\"line\":{\"color\":\"#17becf\"},\"marker\":{\"symbol\":\"circle\"},\"mode\":\"lines\",\"name\":\"Homicidios\",\"orientation\":\"v\",\"showlegend\":true,\"stackgroup\":\"1\",\"x\":[\"Abril\",\"Agosto\",\"Diciembre\",\"Enero\",\"Febrero\",\"Julio\",\"Junio\",\"Marzo\",\"Mayo\",\"Noviembre\",\"Octubre\",\"Septiembre\"],\"xaxis\":\"x\",\"y\":[0.0,0.0,0.0,0.0,0.0,0.0,0.0,0.0,0.0,0.0,0.0,1.6],\"yaxis\":\"y\",\"type\":\"scatter\"},{\"fillpattern\":{\"shape\":\"\"},\"hovertemplate\":\"Tipo de Delito=Violaci\\u00f3n\\u003cbr\\u003emes=%{x}\\u003cbr\\u003eTasa de Delito cada\\u002f100.000 hab.=%{y}\\u003cextra\\u003e\\u003c\\u002fextra\\u003e\",\"legendgroup\":\"Violaci\\u00f3n\",\"line\":{\"color\":\"#ff9896\"},\"marker\":{\"symbol\":\"circle\"},\"mode\":\"lines\",\"name\":\"Violaci\\u00f3n\",\"orientation\":\"v\",\"showlegend\":true,\"stackgroup\":\"1\",\"x\":[\"Abril\",\"Agosto\",\"Diciembre\",\"Enero\",\"Febrero\",\"Julio\",\"Junio\",\"Marzo\",\"Mayo\",\"Noviembre\",\"Octubre\",\"Septiembre\"],\"xaxis\":\"x\",\"y\":[3.2,3.2,3.2,1.6,1.6,0.0,3.2,4.9,1.6,3.2,1.6,1.6],\"yaxis\":\"y\",\"type\":\"scatter\"},{\"fillpattern\":{\"shape\":\"\"},\"hovertemplate\":\"Tipo de Delito=Robo por Sorpresa\\u003cbr\\u003emes=%{x}\\u003cbr\\u003eTasa de Delito cada\\u002f100.000 hab.=%{y}\\u003cextra\\u003e\\u003c\\u002fextra\\u003e\",\"legendgroup\":\"Robo por Sorpresa\",\"line\":{\"color\":\"#ff7f0e\"},\"marker\":{\"symbol\":\"circle\"},\"mode\":\"lines\",\"name\":\"Robo por Sorpresa\",\"orientation\":\"v\",\"showlegend\":true,\"stackgroup\":\"1\",\"x\":[\"Abril\",\"Agosto\",\"Diciembre\",\"Enero\",\"Febrero\",\"Julio\",\"Junio\",\"Marzo\",\"Mayo\",\"Noviembre\",\"Octubre\",\"Septiembre\"],\"xaxis\":\"x\",\"y\":[0.0,1.6,0.0,0.0,1.6,0.0,4.9,1.6,1.6,0.0,1.6,0.0],\"yaxis\":\"y\",\"type\":\"scatter\"}],                        {\"template\":{\"data\":{\"histogram2dcontour\":[{\"type\":\"histogram2dcontour\",\"colorbar\":{\"outlinewidth\":0,\"ticks\":\"\"},\"colorscale\":[[0.0,\"#0d0887\"],[0.1111111111111111,\"#46039f\"],[0.2222222222222222,\"#7201a8\"],[0.3333333333333333,\"#9c179e\"],[0.4444444444444444,\"#bd3786\"],[0.5555555555555556,\"#d8576b\"],[0.6666666666666666,\"#ed7953\"],[0.7777777777777778,\"#fb9f3a\"],[0.8888888888888888,\"#fdca26\"],[1.0,\"#f0f921\"]]}],\"choropleth\":[{\"type\":\"choropleth\",\"colorbar\":{\"outlinewidth\":0,\"ticks\":\"\"}}],\"histogram2d\":[{\"type\":\"histogram2d\",\"colorbar\":{\"outlinewidth\":0,\"ticks\":\"\"},\"colorscale\":[[0.0,\"#0d0887\"],[0.1111111111111111,\"#46039f\"],[0.2222222222222222,\"#7201a8\"],[0.3333333333333333,\"#9c179e\"],[0.4444444444444444,\"#bd3786\"],[0.5555555555555556,\"#d8576b\"],[0.6666666666666666,\"#ed7953\"],[0.7777777777777778,\"#fb9f3a\"],[0.8888888888888888,\"#fdca26\"],[1.0,\"#f0f921\"]]}],\"heatmap\":[{\"type\":\"heatmap\",\"colorbar\":{\"outlinewidth\":0,\"ticks\":\"\"},\"colorscale\":[[0.0,\"#0d0887\"],[0.1111111111111111,\"#46039f\"],[0.2222222222222222,\"#7201a8\"],[0.3333333333333333,\"#9c179e\"],[0.4444444444444444,\"#bd3786\"],[0.5555555555555556,\"#d8576b\"],[0.6666666666666666,\"#ed7953\"],[0.7777777777777778,\"#fb9f3a\"],[0.8888888888888888,\"#fdca26\"],[1.0,\"#f0f921\"]]}],\"heatmapgl\":[{\"type\":\"heatmapgl\",\"colorbar\":{\"outlinewidth\":0,\"ticks\":\"\"},\"colorscale\":[[0.0,\"#0d0887\"],[0.1111111111111111,\"#46039f\"],[0.2222222222222222,\"#7201a8\"],[0.3333333333333333,\"#9c179e\"],[0.4444444444444444,\"#bd3786\"],[0.5555555555555556,\"#d8576b\"],[0.6666666666666666,\"#ed7953\"],[0.7777777777777778,\"#fb9f3a\"],[0.8888888888888888,\"#fdca26\"],[1.0,\"#f0f921\"]]}],\"contourcarpet\":[{\"type\":\"contourcarpet\",\"colorbar\":{\"outlinewidth\":0,\"ticks\":\"\"}}],\"contour\":[{\"type\":\"contour\",\"colorbar\":{\"outlinewidth\":0,\"ticks\":\"\"},\"colorscale\":[[0.0,\"#0d0887\"],[0.1111111111111111,\"#46039f\"],[0.2222222222222222,\"#7201a8\"],[0.3333333333333333,\"#9c179e\"],[0.4444444444444444,\"#bd3786\"],[0.5555555555555556,\"#d8576b\"],[0.6666666666666666,\"#ed7953\"],[0.7777777777777778,\"#fb9f3a\"],[0.8888888888888888,\"#fdca26\"],[1.0,\"#f0f921\"]]}],\"surface\":[{\"type\":\"surface\",\"colorbar\":{\"outlinewidth\":0,\"ticks\":\"\"},\"colorscale\":[[0.0,\"#0d0887\"],[0.1111111111111111,\"#46039f\"],[0.2222222222222222,\"#7201a8\"],[0.3333333333333333,\"#9c179e\"],[0.4444444444444444,\"#bd3786\"],[0.5555555555555556,\"#d8576b\"],[0.6666666666666666,\"#ed7953\"],[0.7777777777777778,\"#fb9f3a\"],[0.8888888888888888,\"#fdca26\"],[1.0,\"#f0f921\"]]}],\"mesh3d\":[{\"type\":\"mesh3d\",\"colorbar\":{\"outlinewidth\":0,\"ticks\":\"\"}}],\"scatter\":[{\"fillpattern\":{\"fillmode\":\"overlay\",\"size\":10,\"solidity\":0.2},\"type\":\"scatter\"}],\"parcoords\":[{\"type\":\"parcoords\",\"line\":{\"colorbar\":{\"outlinewidth\":0,\"ticks\":\"\"}}}],\"scatterpolargl\":[{\"type\":\"scatterpolargl\",\"marker\":{\"colorbar\":{\"outlinewidth\":0,\"ticks\":\"\"}}}],\"bar\":[{\"error_x\":{\"color\":\"#2a3f5f\"},\"error_y\":{\"color\":\"#2a3f5f\"},\"marker\":{\"line\":{\"color\":\"#E5ECF6\",\"width\":0.5},\"pattern\":{\"fillmode\":\"overlay\",\"size\":10,\"solidity\":0.2}},\"type\":\"bar\"}],\"scattergeo\":[{\"type\":\"scattergeo\",\"marker\":{\"colorbar\":{\"outlinewidth\":0,\"ticks\":\"\"}}}],\"scatterpolar\":[{\"type\":\"scatterpolar\",\"marker\":{\"colorbar\":{\"outlinewidth\":0,\"ticks\":\"\"}}}],\"histogram\":[{\"marker\":{\"pattern\":{\"fillmode\":\"overlay\",\"size\":10,\"solidity\":0.2}},\"type\":\"histogram\"}],\"scattergl\":[{\"type\":\"scattergl\",\"marker\":{\"colorbar\":{\"outlinewidth\":0,\"ticks\":\"\"}}}],\"scatter3d\":[{\"type\":\"scatter3d\",\"line\":{\"colorbar\":{\"outlinewidth\":0,\"ticks\":\"\"}},\"marker\":{\"colorbar\":{\"outlinewidth\":0,\"ticks\":\"\"}}}],\"scattermapbox\":[{\"type\":\"scattermapbox\",\"marker\":{\"colorbar\":{\"outlinewidth\":0,\"ticks\":\"\"}}}],\"scatterternary\":[{\"type\":\"scatterternary\",\"marker\":{\"colorbar\":{\"outlinewidth\":0,\"ticks\":\"\"}}}],\"scattercarpet\":[{\"type\":\"scattercarpet\",\"marker\":{\"colorbar\":{\"outlinewidth\":0,\"ticks\":\"\"}}}],\"carpet\":[{\"aaxis\":{\"endlinecolor\":\"#2a3f5f\",\"gridcolor\":\"white\",\"linecolor\":\"white\",\"minorgridcolor\":\"white\",\"startlinecolor\":\"#2a3f5f\"},\"baxis\":{\"endlinecolor\":\"#2a3f5f\",\"gridcolor\":\"white\",\"linecolor\":\"white\",\"minorgridcolor\":\"white\",\"startlinecolor\":\"#2a3f5f\"},\"type\":\"carpet\"}],\"table\":[{\"cells\":{\"fill\":{\"color\":\"#EBF0F8\"},\"line\":{\"color\":\"white\"}},\"header\":{\"fill\":{\"color\":\"#C8D4E3\"},\"line\":{\"color\":\"white\"}},\"type\":\"table\"}],\"barpolar\":[{\"marker\":{\"line\":{\"color\":\"#E5ECF6\",\"width\":0.5},\"pattern\":{\"fillmode\":\"overlay\",\"size\":10,\"solidity\":0.2}},\"type\":\"barpolar\"}],\"pie\":[{\"automargin\":true,\"type\":\"pie\"}]},\"layout\":{\"autotypenumbers\":\"strict\",\"colorway\":[\"#636efa\",\"#EF553B\",\"#00cc96\",\"#ab63fa\",\"#FFA15A\",\"#19d3f3\",\"#FF6692\",\"#B6E880\",\"#FF97FF\",\"#FECB52\"],\"font\":{\"color\":\"#2a3f5f\"},\"hovermode\":\"closest\",\"hoverlabel\":{\"align\":\"left\"},\"paper_bgcolor\":\"white\",\"plot_bgcolor\":\"#E5ECF6\",\"polar\":{\"bgcolor\":\"#E5ECF6\",\"angularaxis\":{\"gridcolor\":\"white\",\"linecolor\":\"white\",\"ticks\":\"\"},\"radialaxis\":{\"gridcolor\":\"white\",\"linecolor\":\"white\",\"ticks\":\"\"}},\"ternary\":{\"bgcolor\":\"#E5ECF6\",\"aaxis\":{\"gridcolor\":\"white\",\"linecolor\":\"white\",\"ticks\":\"\"},\"baxis\":{\"gridcolor\":\"white\",\"linecolor\":\"white\",\"ticks\":\"\"},\"caxis\":{\"gridcolor\":\"white\",\"linecolor\":\"white\",\"ticks\":\"\"}},\"coloraxis\":{\"colorbar\":{\"outlinewidth\":0,\"ticks\":\"\"}},\"colorscale\":{\"sequential\":[[0.0,\"#0d0887\"],[0.1111111111111111,\"#46039f\"],[0.2222222222222222,\"#7201a8\"],[0.3333333333333333,\"#9c179e\"],[0.4444444444444444,\"#bd3786\"],[0.5555555555555556,\"#d8576b\"],[0.6666666666666666,\"#ed7953\"],[0.7777777777777778,\"#fb9f3a\"],[0.8888888888888888,\"#fdca26\"],[1.0,\"#f0f921\"]],\"sequentialminus\":[[0.0,\"#0d0887\"],[0.1111111111111111,\"#46039f\"],[0.2222222222222222,\"#7201a8\"],[0.3333333333333333,\"#9c179e\"],[0.4444444444444444,\"#bd3786\"],[0.5555555555555556,\"#d8576b\"],[0.6666666666666666,\"#ed7953\"],[0.7777777777777778,\"#fb9f3a\"],[0.8888888888888888,\"#fdca26\"],[1.0,\"#f0f921\"]],\"diverging\":[[0,\"#8e0152\"],[0.1,\"#c51b7d\"],[0.2,\"#de77ae\"],[0.3,\"#f1b6da\"],[0.4,\"#fde0ef\"],[0.5,\"#f7f7f7\"],[0.6,\"#e6f5d0\"],[0.7,\"#b8e186\"],[0.8,\"#7fbc41\"],[0.9,\"#4d9221\"],[1,\"#276419\"]]},\"xaxis\":{\"gridcolor\":\"white\",\"linecolor\":\"white\",\"ticks\":\"\",\"title\":{\"standoff\":15},\"zerolinecolor\":\"white\",\"automargin\":true,\"zerolinewidth\":2},\"yaxis\":{\"gridcolor\":\"white\",\"linecolor\":\"white\",\"ticks\":\"\",\"title\":{\"standoff\":15},\"zerolinecolor\":\"white\",\"automargin\":true,\"zerolinewidth\":2},\"scene\":{\"xaxis\":{\"backgroundcolor\":\"#E5ECF6\",\"gridcolor\":\"white\",\"linecolor\":\"white\",\"showbackground\":true,\"ticks\":\"\",\"zerolinecolor\":\"white\",\"gridwidth\":2},\"yaxis\":{\"backgroundcolor\":\"#E5ECF6\",\"gridcolor\":\"white\",\"linecolor\":\"white\",\"showbackground\":true,\"ticks\":\"\",\"zerolinecolor\":\"white\",\"gridwidth\":2},\"zaxis\":{\"backgroundcolor\":\"#E5ECF6\",\"gridcolor\":\"white\",\"linecolor\":\"white\",\"showbackground\":true,\"ticks\":\"\",\"zerolinecolor\":\"white\",\"gridwidth\":2}},\"shapedefaults\":{\"line\":{\"color\":\"#2a3f5f\"}},\"annotationdefaults\":{\"arrowcolor\":\"#2a3f5f\",\"arrowhead\":0,\"arrowwidth\":1},\"geo\":{\"bgcolor\":\"white\",\"landcolor\":\"#E5ECF6\",\"subunitcolor\":\"white\",\"showland\":true,\"showlakes\":true,\"lakecolor\":\"white\"},\"title\":{\"x\":0.05},\"mapbox\":{\"style\":\"light\"}}},\"xaxis\":{\"anchor\":\"y\",\"domain\":[0.0,1.0],\"title\":{\"text\":\"mes\"},\"categoryorder\":\"array\",\"categoryarray\":[\"Enero\",\"Febrero\",\"Marzo\",\"Abril\",\"Mayo\",\"Junio\",\"Julio\",\"Agosto\",\"Septiembre\",\"Octubre\",\"Noviembre\",\"Diciembre\"]},\"yaxis\":{\"anchor\":\"x\",\"domain\":[0.0,1.0],\"title\":{\"text\":\"Tasa de Delito cada\\u002f100.000 hab.\"}},\"legend\":{\"title\":{\"text\":\"Tipo de Delito\"},\"tracegroupgap\":0},\"title\":{\"text\":\"Streamgraph de Tasas de Delitos en Coyhaique\"},\"shapes\":[{\"line\":{\"color\":\"black\",\"dash\":\"dash\",\"width\":2},\"type\":\"line\",\"x0\":\"Marzo\",\"x1\":\"Marzo\",\"xref\":\"x\",\"y0\":0,\"y1\":1,\"yref\":\"paper\"},{\"line\":{\"color\":\"black\",\"dash\":\"dash\",\"width\":2},\"type\":\"line\",\"x0\":\"Junio\",\"x1\":\"Junio\",\"xref\":\"x\",\"y0\":0,\"y1\":1,\"yref\":\"paper\"},{\"line\":{\"color\":\"black\",\"dash\":\"dash\",\"width\":2},\"type\":\"line\",\"x0\":\"Septiembre\",\"x1\":\"Septiembre\",\"xref\":\"x\",\"y0\":0,\"y1\":1,\"yref\":\"paper\"},{\"line\":{\"color\":\"black\",\"dash\":\"dash\",\"width\":2},\"type\":\"line\",\"x0\":\"Diciembre\",\"x1\":\"Diciembre\",\"xref\":\"x\",\"y0\":0,\"y1\":1,\"yref\":\"paper\"}],\"annotations\":[{\"font\":{\"color\":\"black\"},\"showarrow\":false,\"text\":\"Verano\",\"x\":1.5,\"y\":-2.5},{\"font\":{\"color\":\"black\"},\"showarrow\":false,\"text\":\"Oto\\u00f1o\",\"x\":4.5,\"y\":-2.5},{\"font\":{\"color\":\"black\"},\"showarrow\":false,\"text\":\"Invierno\",\"x\":7.5,\"y\":-2.5},{\"font\":{\"color\":\"black\"},\"showarrow\":false,\"text\":\"Primavera\",\"x\":10.5,\"y\":-2.5}]},                        {\"responsive\": true}                    ).then(function(){\n",
       "                            \n",
       "var gd = document.getElementById('a9baa09d-e2f5-4fe3-b61f-f402ca807b12');\n",
       "var x = new MutationObserver(function (mutations, observer) {{\n",
       "        var display = window.getComputedStyle(gd).display;\n",
       "        if (!display || display === 'none') {{\n",
       "            console.log([gd, 'removed!']);\n",
       "            Plotly.purge(gd);\n",
       "            observer.disconnect();\n",
       "        }}\n",
       "}});\n",
       "\n",
       "// Listen for the removal of the full notebook cells\n",
       "var notebookContainer = gd.closest('#notebook-container');\n",
       "if (notebookContainer) {{\n",
       "    x.observe(notebookContainer, {childList: true});\n",
       "}}\n",
       "\n",
       "// Listen for the clearing of the current output cell\n",
       "var outputEl = gd.closest('.output');\n",
       "if (outputEl) {{\n",
       "    x.observe(outputEl, {childList: true});\n",
       "}}\n",
       "\n",
       "                        })                };                });            </script>        </div>"
      ]
     },
     "metadata": {},
     "output_type": "display_data"
    }
   ],
   "source": [
    "# Cargar datos desde el archivo Excel\n",
    "df_stream = df2.sort_values(\"mes\")\n",
    "df_stream2 = df1.sort_values(\"mes\")\n",
    "\n",
    "levantarStream2(df_stream, orden_meses, \"Valdivia\", colores_delitos)\n",
    "levantarStream2(df_stream2, orden_meses, \"Coyhaique\", colores_delitos)"
   ]
  },
  {
   "cell_type": "code",
   "execution_count": 18,
   "id": "6a6665e9-2a18-4247-b03d-ca1038ceb84c",
   "metadata": {},
   "outputs": [
    {
     "data": {
      "image/png": "[encoded data removed]",
      "text/plain": [
       "<Figure size 640x480 with 1 Axes>"
      ]
     },
     "metadata": {},
     "output_type": "display_data"
    }
   ],
   "source": [
    "# Seleccionar el delito que deseas comparar\n",
    "#delito_seleccionado = \"Robo con Violencia o Intimidación\"\n",
    "delito_seleccionado = \"Hurtos\"\n",
    "#delito_seleccionado = \"Robo Lugar Habitado\"\n",
    "\n",
    "deployComparacion(\"Hurtos\",df1, df2, max(max(df1[\"tasa\"]), max(df2[\"tasa\"])))"
   ]
  },
  {
   "cell_type": "markdown",
   "id": "be13b707-c5e6-4ec3-a4aa-13f5cb49955a",
   "metadata": {},
   "source": [
    "## Comparaciones de todos los delitos"
   ]
  },
  {
   "cell_type": "code",
   "execution_count": 27,
   "id": "31b3757a-1666-48b1-b963-921a426f92d2",
   "metadata": {},
   "outputs": [
    {
     "data": {
      "image/png": "[encoded data removed]",
      "text/plain": [
       "<Figure size 640x480 with 1 Axes>"
      ]
     },
     "metadata": {},
     "output_type": "display_data"
    },
    {
     "data": {
      "image/png": "[encoded data removed]",
      "text/plain": [
       "<Figure size 640x480 with 1 Axes>"
      ]
     },
     "metadata": {},
     "output_type": "display_data"
    },
    {
     "data": {
      "image/png": "[encoded data removed]",
      "text/plain": [
       "<Figure size 640x480 with 1 Axes>"
      ]
     },
     "metadata": {},
     "output_type": "display_data"
    },
    {
     "data": {
      "image/png": "[encoded data removed]",
      "text/plain": [
       "<Figure size 640x480 with 1 Axes>"
      ]
     },
     "metadata": {},
     "output_type": "display_data"
    },
    {
     "data": {
      "image/png": "[encoded data removed]",
      "text/plain": [
       "<Figure size 640x480 with 1 Axes>"
      ]
     },
     "metadata": {},
     "output_type": "display_data"
    },
    {
     "data": {
      "image/png": "[encoded data removed]",
      "text/plain": [
       "<Figure size 640x480 with 1 Axes>"
      ]
     },
     "metadata": {},
     "output_type": "display_data"
    },
    {
     "data": {
      "image/png": "[encoded data removed]",
      "text/plain": [
       "<Figure size 640x480 with 1 Axes>"
      ]
     },
     "metadata": {},
     "output_type": "display_data"
    },
    {
     "data": {
      "image/png": "[encoded data removed]",
      "text/plain": [
       "<Figure size 640x480 with 1 Axes>"
      ]
     },
     "metadata": {},
     "output_type": "display_data"
    },
    {
     "data": {
      "image/png": "[encoded data removed]",
      "text/plain": [
       "<Figure size 640x480 with 1 Axes>"
      ]
     },
     "metadata": {},
     "output_type": "display_data"
    },
    {
     "data": {
      "image/png": "[encoded data removed]",
      "text/plain": [
       "<Figure size 640x480 with 1 Axes>"
      ]
     },
     "metadata": {},
     "output_type": "display_data"
    },
    {
     "data": {
      "image/png": "[encoded data removed]",
      "text/plain": [
       "<Figure size 640x480 with 1 Axes>"
      ]
     },
     "metadata": {},
     "output_type": "display_data"
    }
   ],
   "source": [
    "for delito in delitos_todos:\n",
    "    deployComparacion(delito, df1, df2, max(max(df1[\"tasa\"]), max(df2[\"tasa\"])))"
   ]
  },
  {
   "cell_type": "code",
   "execution_count": null,
   "id": "b422ec53-d6db-435f-9c5b-62325c8a6941",
   "metadata": {},
   "outputs": [],
   "source": []
  }
 ],
 "metadata": {
  "kernelspec": {
   "display_name": "Python 3 (ipykernel)",
   "language": "python",
   "name": "python3"
  },
  "language_info": {
   "codemirror_mode": {
    "name": "ipython",
    "version": 3
   },
   "file_extension": ".py",
   "mimetype": "text/x-python",
   "name": "python",
   "nbconvert_exporter": "python",
   "pygments_lexer": "ipython3",
   "version": "3.11.5"
  }
 },
 "nbformat": 4,
 "nbformat_minor": 5
}
